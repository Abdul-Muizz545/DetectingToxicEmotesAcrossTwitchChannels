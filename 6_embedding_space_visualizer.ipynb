{
 "cells": [
  {
   "cell_type": "markdown",
   "metadata": {},
   "source": [
    "This file contains code to visualize our emote embedding space using TSNE and detecting potentially toxic HasanAbi emotes using the HasanAbi emotes we know are toxic (based on how close emote is to toxic HasanAbi emote in t-SNE space)"
   ]
  },
  {
   "cell_type": "markdown",
   "metadata": {},
   "source": [
    "References: https://medium.com/@parkermo_86729/nlp-series-part-2-using-word2vec-word-embeddings-to-explore-semantic-relations-among-new-sources-d91a1371fd08\n",
    "\n",
    "https://builtin.com/data-science/tsne-python\n"
   ]
  },
  {
   "cell_type": "markdown",
   "metadata": {},
   "source": [
    "# Importing necessary modules"
   ]
  },
  {
   "cell_type": "code",
   "execution_count": 64,
   "metadata": {},
   "outputs": [],
   "source": [
    "import sklearn\n",
    "from sklearn.manifold import TSNE\n",
    "import pandas as pd\n",
    "import numpy as np\n",
    "import csv  \n",
    "import gensim\n",
    "from sklearn.metrics.pairwise import cosine_similarity"
   ]
  },
  {
   "cell_type": "markdown",
   "metadata": {},
   "source": [
    "# Read emote embedding space and emote labels"
   ]
  },
  {
   "cell_type": "code",
   "execution_count": 65,
   "metadata": {},
   "outputs": [
    {
     "name": "stdout",
     "output_type": "stream",
     "text": [
      "            0         1         2         3         4         5         6    \\\n",
      "0      1.286686  0.975437 -0.105877  0.404266 -0.069233  0.262404  0.398642   \n",
      "1      0.529400  0.667009 -0.286177  0.307736  0.286603 -0.901467 -0.519312   \n",
      "2      0.743785  1.555274  1.418502  0.394715 -0.421091 -0.952254  0.439094   \n",
      "3      0.043058  0.305662  0.128614 -0.744834 -0.107481 -0.263151  0.488091   \n",
      "4      1.025381  0.266222  0.659756  0.703869  0.033678  0.297028 -0.840579   \n",
      "...         ...       ...       ...       ...       ...       ...       ...   \n",
      "65261  0.123776 -0.046080 -0.207358  0.306132 -0.025957  0.054415 -0.058345   \n",
      "65262 -0.078786 -0.208091 -0.120529  0.192288 -0.080695  0.001563  0.107449   \n",
      "65263  0.035936  0.121559  0.153296  0.225215  0.017556 -0.115271  0.007538   \n",
      "65264 -0.010854 -0.175074 -0.021993  0.171712  0.091793  0.198943 -0.111441   \n",
      "65265 -0.039198 -0.101730  0.035865  0.102303  0.016584  0.064804  0.012547   \n",
      "\n",
      "            7         8         9    ...       490       491       492  \\\n",
      "0     -0.315449 -1.087698 -1.060235  ... -0.187224 -0.958284  0.234938   \n",
      "1     -0.045616  0.182374  1.221941  ... -0.205459  0.157584  0.821111   \n",
      "2     -0.824591 -0.556452 -1.017358  ...  0.541599 -0.434617  1.614444   \n",
      "3      0.013400 -0.440657 -1.324904  ...  0.685416  1.168294  0.483025   \n",
      "4      0.118151 -1.409984  0.229814  ...  0.256568  0.060377  0.313571   \n",
      "...         ...       ...       ...  ...       ...       ...       ...   \n",
      "65261  0.373204 -0.003007 -0.011925  ...  0.116089  0.154081  0.028771   \n",
      "65262 -0.003260 -0.066386  0.379041  ...  0.076811  0.153004  0.021823   \n",
      "65263  0.010117 -0.134507  0.063472  ... -0.059425  0.197370  0.087605   \n",
      "65264  0.093867  0.130741 -0.016562  ...  0.090605  0.164713  0.056258   \n",
      "65265  0.092065  0.049016  0.067970  ...  0.056961  0.104560 -0.028895   \n",
      "\n",
      "            493       494       495       496       497       498       499  \n",
      "0      0.003340 -0.104484 -0.293105 -0.475162 -0.332355 -1.018994 -1.131760  \n",
      "1      0.474919 -0.379334  0.377733  0.040605  0.962311 -0.105893 -1.231472  \n",
      "2      0.418718 -0.602230  0.333248  0.285769 -0.152497 -0.302453 -2.602358  \n",
      "3     -0.566916 -0.884935  0.412866 -1.231713 -0.045327 -0.155488 -0.278389  \n",
      "4      0.657656 -0.541019 -0.109496 -0.799253 -0.311534 -1.136861 -1.726974  \n",
      "...         ...       ...       ...       ...       ...       ...       ...  \n",
      "65261  0.059752  0.029517 -0.039812  0.073769 -0.125390  0.106057 -0.059767  \n",
      "65262  0.113981  0.213592  0.032059 -0.000415 -0.115231 -0.140055 -0.288852  \n",
      "65263 -0.047777  0.107747  0.026922  0.013917  0.043370 -0.200364 -0.127454  \n",
      "65264  0.120644  0.153712  0.027234 -0.150531 -0.101712 -0.026250 -0.098374  \n",
      "65265 -0.073409  0.000365 -0.008868 -0.206210 -0.011206  0.053799 -0.028896  \n",
      "\n",
      "[65266 rows x 500 columns]\n"
     ]
    }
   ],
   "source": [
    "#read embedding space of ONLY emotes into dataframe. Each row corresponds to an emote where every emote is represented as vector of 500 numbers (made using Word2Vec model)\n",
    "emote_embeddings_df = pd.read_csv(\"emote_embeddings.tsv\", sep = \"\\t\", encoding='utf-8-sig', header = None, quoting= csv.QUOTE_NONE)\n",
    "print(emote_embeddings_df)"
   ]
  },
  {
   "cell_type": "code",
   "execution_count": 66,
   "metadata": {},
   "outputs": [
    {
     "name": "stdout",
     "output_type": "stream",
     "text": [
      "               word          source\n",
      "0               LUL   GLOBAL_TWITCH\n",
      "1                <3   GLOBAL_TWITCH\n",
      "2              Clap      GLOBAL_7TV\n",
      "3                gg  TWITCH_CHANNEL\n",
      "4                :)   GLOBAL_TWITCH\n",
      "...             ...             ...\n",
      "65261  brucegbatman  TWITCH_CHANNEL\n",
      "65262   matthewbruh  TWITCH_CHANNEL\n",
      "65263    maxyyagony  TWITCH_CHANNEL\n",
      "65264     maximumyk  TWITCH_CHANNEL\n",
      "65265   foggedcorgi  TWITCH_CHANNEL\n",
      "\n",
      "[65266 rows x 2 columns]\n"
     ]
    }
   ],
   "source": [
    "emotes_only_labels_df = pd.read_csv(\"emote_labels.tsv\", sep = '\\t', encoding='utf-8-sig', quoting= csv.QUOTE_NONE)\n",
    "print(emotes_only_labels_df)"
   ]
  },
  {
   "cell_type": "code",
   "execution_count": 67,
   "metadata": {},
   "outputs": [
    {
     "name": "stdout",
     "output_type": "stream",
     "text": [
      "[[ 1.2866861   0.9754372  -0.10587668 ... -0.33235487 -1.0189936\n",
      "  -1.1317601 ]\n",
      " [ 0.5294004   0.66700864 -0.28617743 ...  0.96231073 -0.10589289\n",
      "  -1.2314724 ]\n",
      " [ 0.74378496  1.555274    1.4185019  ... -0.1524967  -0.30245277\n",
      "  -2.6023583 ]\n",
      " ...\n",
      " [ 0.0359361   0.12155863  0.15329593 ...  0.04337037 -0.20036441\n",
      "  -0.12745376]\n",
      " [-0.01085371 -0.17507392 -0.02199322 ... -0.10171156 -0.02624998\n",
      "  -0.09837419]\n",
      " [-0.03919836 -0.10172977  0.03586481 ... -0.01120612  0.05379896\n",
      "  -0.02889587]]\n",
      "(65266, 500)\n"
     ]
    }
   ],
   "source": [
    "emote_embeddings_array = emote_embeddings_df.to_numpy()\n",
    "print(emote_embeddings_array)\n",
    "\n",
    "print(emote_embeddings_array.shape)"
   ]
  },
  {
   "cell_type": "code",
   "execution_count": 68,
   "metadata": {},
   "outputs": [
    {
     "name": "stdout",
     "output_type": "stream",
     "text": [
      "['LUL' '<3' 'Clap' ... 'maxyyagony' 'maximumyk' 'foggedcorgi']\n",
      "(65266,)\n"
     ]
    }
   ],
   "source": [
    "emote_labels_array = emotes_only_labels_df[\"word\"].to_numpy()\n",
    "print(emote_labels_array)\n",
    "\n",
    "print(emote_labels_array.shape)"
   ]
  },
  {
   "cell_type": "markdown",
   "metadata": {},
   "source": [
    "# Entire emote embedding space"
   ]
  },
  {
   "cell_type": "markdown",
   "metadata": {},
   "source": [
    "## Train t-SNE model after extracting PCA components"
   ]
  },
  {
   "cell_type": "markdown",
   "metadata": {},
   "source": [
    "Before doing TSNE on 500 dimensional vectors we will do PCA so we can get better visualizations with TSNE because we have very high dimensional vectors"
   ]
  },
  {
   "cell_type": "code",
   "execution_count": 7,
   "metadata": {},
   "outputs": [
    {
     "name": "stdout",
     "output_type": "stream",
     "text": [
      "[0.03211793 0.02954344 0.01742586 0.01415079 0.01167801 0.0096028\n",
      " 0.00870129 0.0081807  0.00749245 0.00724629 0.006692   0.00627304\n",
      " 0.00597578 0.00562087 0.00530061 0.00521603 0.00510277 0.00499279\n",
      " 0.00479299 0.00466385 0.00441609 0.00438775 0.00424248 0.00417423\n",
      " 0.0041659  0.00412978 0.00401609 0.00393964 0.00390352 0.00382042\n",
      " 0.00376711 0.00366442 0.00364985 0.00356915 0.00352491 0.00348088\n",
      " 0.00342867 0.00338831 0.00332871 0.00324659 0.00323093 0.00321376\n",
      " 0.00316844 0.00313531 0.00311426 0.00309214 0.00305463 0.00302727\n",
      " 0.00300547 0.00298657 0.00296895 0.00295257 0.00293545 0.00289468\n",
      " 0.00287367 0.00286639 0.00282803 0.00281613 0.00279303 0.00274597\n",
      " 0.00273352 0.00272369 0.00269612 0.00268536 0.00267857 0.00264883\n",
      " 0.00264039 0.00263489 0.00261339 0.00260081 0.00258212 0.0025426\n",
      " 0.00252262 0.00251265 0.00249409 0.00249029 0.0024652  0.00245641\n",
      " 0.00242988 0.00241469 0.00240484 0.00239769 0.00238425 0.0023786\n",
      " 0.00236765 0.00235473 0.00232954 0.00231499 0.00228896 0.00227855\n",
      " 0.00225966 0.00224485 0.00222069 0.00221349 0.0022099  0.00218128\n",
      " 0.00216524 0.00215016 0.00213166 0.00212547]\n"
     ]
    }
   ],
   "source": [
    "#Using PCA to extract 100 components from the 500 dimensional vectors \n",
    "from sklearn.decomposition import PCA\n",
    "\n",
    "pca = PCA(n_components = 100, random_state = 42)\n",
    "pca_result = pca.fit_transform(emote_embeddings_array)\n",
    "\n",
    "print(pca.explained_variance_ratio_)"
   ]
  },
  {
   "cell_type": "code",
   "execution_count": 9,
   "metadata": {},
   "outputs": [
    {
     "name": "stdout",
     "output_type": "stream",
     "text": [
      "Cumulative explained variation for principal components: 0.43368679974720203\n"
     ]
    },
    {
     "data": {
      "image/png": "[encoded data removed]",
      "text/plain": [
       "<Figure size 640x480 with 1 Axes>"
      ]
     },
     "metadata": {},
     "output_type": "display_data"
    }
   ],
   "source": [
    "import matplotlib\n",
    "import matplotlib.pyplot as plt\n",
    "\n",
    "cumsum = np.cumsum(pca.explained_variance_ratio_)\n",
    "d = np.argmax(cumsum >= 0.95) + 1   \n",
    "plt.plot(cumsum)\n",
    "\n",
    "print('Cumulative explained variation for principal components: {}'.format(np.sum(pca.explained_variance_ratio_)))"
   ]
  },
  {
   "cell_type": "code",
   "execution_count": 14,
   "metadata": {},
   "outputs": [],
   "source": [
    "tsne = TSNE(n_components = 2, random_state= 42, perplexity = 40, learning_rate = 200, n_iter = 1500)\n",
    "embeddings_2d = tsne.fit_transform(pca_result)"
   ]
  },
  {
   "cell_type": "code",
   "execution_count": 15,
   "metadata": {},
   "outputs": [
    {
     "name": "stdout",
     "output_type": "stream",
     "text": [
      "[[ -1.4696733 -56.456734 ]\n",
      " [ 10.31042    17.232874 ]\n",
      " [ -3.0626721 -56.582294 ]\n",
      " ...\n",
      " [  9.200284  -38.686848 ]\n",
      " [-26.985477  -47.782063 ]\n",
      " [-22.855108  -38.143513 ]]\n"
     ]
    }
   ],
   "source": [
    "print(embeddings_2d)"
   ]
  },
  {
   "cell_type": "markdown",
   "metadata": {},
   "source": [
    "## Visualizing our emote embedding space after TSNE applied on PCA components"
   ]
  },
  {
   "cell_type": "code",
   "execution_count": 16,
   "metadata": {},
   "outputs": [],
   "source": [
    "import matplotlib\n",
    "import matplotlib.pyplot as plt"
   ]
  },
  {
   "cell_type": "code",
   "execution_count": 18,
   "metadata": {},
   "outputs": [
    {
     "data": {
      "image/png": "[encoded data removed]",
      "text/plain": [
       "<Figure size 640x480 with 1 Axes>"
      ]
     },
     "metadata": {},
     "output_type": "display_data"
    }
   ],
   "source": [
    "# Plot the t-SNE output\n",
    "x = embeddings_2d[:, 0]\n",
    "y = embeddings_2d[:, 1]\n",
    "\n",
    "plt.scatter(x, y, s = 5)\n",
    "\n",
    "# #adding labels to emotes\n",
    "# for i, label in enumerate(emote_labels_array[:]):\n",
    "#     plt.text(x[i], x[i], label, fontsize=10)\n",
    "\n",
    "#adding labels to axes and title\n",
    "plt.xlabel('T-SNE component 1')\n",
    "plt.ylabel('T-SNE component 2')\n",
    "plt.title('Emote embedding space visualized using TSNE in 2D')\n",
    "\n",
    "plt.show()"
   ]
  },
  {
   "cell_type": "markdown",
   "metadata": {},
   "source": [
    "## Training PCA model on emote embedding space"
   ]
  },
  {
   "cell_type": "code",
   "execution_count": 121,
   "metadata": {},
   "outputs": [
    {
     "name": "stdout",
     "output_type": "stream",
     "text": [
      "Explained variation per principal component: [0.03211793 0.02954344 0.01742585]\n"
     ]
    }
   ],
   "source": [
    "from sklearn.decomposition import PCA\n",
    "\n",
    "pca = PCA(n_components = 3)\n",
    "pca_result3comp = pca.fit_transform(emote_embeddings_array)\n",
    "\n",
    "print('Explained variation per principal component: {}'.format(pca.explained_variance_ratio_))"
   ]
  },
  {
   "cell_type": "code",
   "execution_count": 123,
   "metadata": {},
   "outputs": [
    {
     "name": "stdout",
     "output_type": "stream",
     "text": [
      "(65266, 3)\n",
      "[[-1.13830913 -0.53701293 -1.098354  ]\n",
      " [ 1.41112191  2.60409485  2.12740582]\n",
      " [-0.07461958  0.14111788 -0.69006037]\n",
      " ...\n",
      " [-0.80706553 -1.05725265  0.18668178]\n",
      " [-1.15161628 -1.16889444 -0.51765048]\n",
      " [-0.81269821 -0.90854911 -0.36696482]]\n"
     ]
    }
   ],
   "source": [
    "print(pca_result3comp.shape)\n",
    "print(pca_result3comp)"
   ]
  },
  {
   "cell_type": "code",
   "execution_count": 117,
   "metadata": {},
   "outputs": [
    {
     "name": "stdout",
     "output_type": "stream",
     "text": [
      "Cumulative explained variation for 50 principal components: 0.07908722850949827\n"
     ]
    },
    {
     "data": {
      "image/png": "[encoded data removed]",
      "text/plain": [
       "<Figure size 640x480 with 1 Axes>"
      ]
     },
     "metadata": {},
     "output_type": "display_data"
    }
   ],
   "source": [
    "import matplotlib\n",
    "import matplotlib.pyplot as plt\n",
    "\n",
    "cumsum = np.cumsum(pca.explained_variance_ratio_)\n",
    "d = np.argmax(cumsum >= 0.95) + 1   \n",
    "plt.plot(cumsum)\n",
    "\n",
    "print('Cumulative explained variation for 50 principal components: {}'.format(np.sum(pca.explained_variance_ratio_)))"
   ]
  },
  {
   "cell_type": "markdown",
   "metadata": {},
   "source": [
    "## Visualize emote embedding space after PCA"
   ]
  },
  {
   "cell_type": "markdown",
   "metadata": {},
   "source": [
    "As we can see, the emote embedding space in PCA looks like one dense cluster ball  because only around 8 percent of total information was captured which is not enough to seperate the emotes into different clusters."
   ]
  },
  {
   "cell_type": "code",
   "execution_count": 124,
   "metadata": {},
   "outputs": [
    {
     "data": {
      "image/png": "[encoded data removed]",
      "text/plain": [
       "<Figure size 640x480 with 1 Axes>"
      ]
     },
     "metadata": {},
     "output_type": "display_data"
    }
   ],
   "source": [
    "# Plot first two components of PCA\n",
    "x = pca_result3comp[:, 0]\n",
    "y = pca_result3comp[:, 1]\n",
    "    \n",
    "plt.scatter(x, y, s = 5)\n",
    "\n",
    "\n",
    "#adding labels to axes and title\n",
    "plt.xlabel('PCA component 1')\n",
    "plt.ylabel('PCA component 2')\n",
    "\n",
    "plt.title('Emote embedding space visualized using PCA in 2D')\n",
    "    \n",
    "plt.show()"
   ]
  },
  {
   "cell_type": "markdown",
   "metadata": {},
   "source": [
    "# Hasan Abi's emote embedding space"
   ]
  },
  {
   "cell_type": "markdown",
   "metadata": {},
   "source": [
    "## Extract all HasanAbi emotes from emote embedding space"
   ]
  },
  {
   "cell_type": "code",
   "execution_count": null,
   "metadata": {},
   "outputs": [],
   "source": [
    "# Read channel emotes file\n",
    "channel_emotes_df = pd.read_csv(\"channel_emotes.csv\")"
   ]
  },
  {
   "cell_type": "code",
   "execution_count": 70,
   "metadata": {},
   "outputs": [],
   "source": [
    "#Renaming columns that start with numbers to avoid potential conflict with pandas \n",
    "channel_emotes_df.columns = ['Col_' + str(col) if col[0].isdigit() else col for col in channel_emotes_df.columns]\n",
    "channel_emotes_df.fillna(\"\", inplace = True) #fill nulls with empty string\n",
    "channel_emotes_df = channel_emotes_df.reset_index(drop = True)"
   ]
  },
  {
   "cell_type": "code",
   "execution_count": 71,
   "metadata": {},
   "outputs": [
    {
     "data": {
      "text/html": [
       "<div>\n",
       "<style scoped>\n",
       "    .dataframe tbody tr th:only-of-type {\n",
       "        vertical-align: middle;\n",
       "    }\n",
       "\n",
       "    .dataframe tbody tr th {\n",
       "        vertical-align: top;\n",
       "    }\n",
       "\n",
       "    .dataframe thead th {\n",
       "        text-align: right;\n",
       "    }\n",
       "</style>\n",
       "<table border=\"1\" class=\"dataframe\">\n",
       "  <thead>\n",
       "    <tr style=\"text-align: right;\">\n",
       "      <th></th>\n",
       "      <th>Col_1XFRAZX1</th>\n",
       "      <th>Col_20kilo</th>\n",
       "      <th>Col_2thy</th>\n",
       "      <th>Col_360Chrism</th>\n",
       "      <th>Col_39daph</th>\n",
       "      <th>Col_420jenkins</th>\n",
       "      <th>Col_4HEAD</th>\n",
       "      <th>Col_5up</th>\n",
       "      <th>Col_6Cyx</th>\n",
       "      <th>Col_6lasphemous</th>\n",
       "      <th>...</th>\n",
       "      <th>zombs</th>\n",
       "      <th>ZONEsama</th>\n",
       "      <th>Zoomaa</th>\n",
       "      <th>zorgo_hs</th>\n",
       "      <th>ZubatLEL</th>\n",
       "      <th>ZVCH</th>\n",
       "      <th>Zwag</th>\n",
       "      <th>zwebackhd</th>\n",
       "      <th>Zy0xxx</th>\n",
       "      <th>Zyro</th>\n",
       "    </tr>\n",
       "  </thead>\n",
       "  <tbody>\n",
       "    <tr>\n",
       "      <th>0</th>\n",
       "      <td>x1xfraFRAZ</td>\n",
       "      <td>x20kilChest</td>\n",
       "      <td>pvper3hard</td>\n",
       "      <td>chrisAww</td>\n",
       "      <td>daph2head</td>\n",
       "      <td>jenkinsAY</td>\n",
       "      <td>foheadBOZOSPOTTED</td>\n",
       "      <td>5up5Crumb</td>\n",
       "      <td>cyxAAA</td>\n",
       "      <td>x6lasp30k</td>\n",
       "      <td>...</td>\n",
       "      <td>zombsBanger</td>\n",
       "      <td>zoneAAAAA</td>\n",
       "      <td>zoomaa423</td>\n",
       "      <td>zorg1</td>\n",
       "      <td>zub3</td>\n",
       "      <td>oogy1</td>\n",
       "      <td>zwag200iq</td>\n",
       "      <td>zweWOW</td>\n",
       "      <td>zy0xAngy</td>\n",
       "      <td>ttvzyr30</td>\n",
       "    </tr>\n",
       "    <tr>\n",
       "      <th>1</th>\n",
       "      <td>x1xfraBlessUP</td>\n",
       "      <td>x20kilChest2</td>\n",
       "      <td>pvperAlarm</td>\n",
       "      <td>chrisAYAYA</td>\n",
       "      <td>daph39</td>\n",
       "      <td>jenkinsBepis</td>\n",
       "      <td>foheadClown</td>\n",
       "      <td>5up5Fu</td>\n",
       "      <td>cyxAYAYA</td>\n",
       "      <td>x6lasp400iL</td>\n",
       "      <td>...</td>\n",
       "      <td>zombsClown</td>\n",
       "      <td>zoneAngy</td>\n",
       "      <td>zoomaaACHES</td>\n",
       "      <td>zorg8</td>\n",
       "      <td>zub420SUBPOINTS</td>\n",
       "      <td>oogy10</td>\n",
       "      <td>zwag6cs</td>\n",
       "      <td>zweAudacity</td>\n",
       "      <td>zy0xBedge</td>\n",
       "      <td>ttvzyrCamera</td>\n",
       "    </tr>\n",
       "    <tr>\n",
       "      <th>2</th>\n",
       "      <td>x1xfraFraz</td>\n",
       "      <td>x20kilCoin</td>\n",
       "      <td>pvperAsh</td>\n",
       "      <td>chrisBaited</td>\n",
       "      <td>daphArt</td>\n",
       "      <td>jenkinsChicken</td>\n",
       "      <td>foheadCry</td>\n",
       "      <td>5up5Tubbo</td>\n",
       "      <td>cyxBadAcc</td>\n",
       "      <td>x6lasp400iR</td>\n",
       "      <td>...</td>\n",
       "      <td>zombsDEAL</td>\n",
       "      <td>zoneAYAYA</td>\n",
       "      <td>zoomaaBadaBoom</td>\n",
       "      <td>zorg9</td>\n",
       "      <td>zubAYAYA</td>\n",
       "      <td>oogy2</td>\n",
       "      <td>zwagCannon</td>\n",
       "      <td>zweBaby</td>\n",
       "      <td>zy0xCap</td>\n",
       "      <td>ttvzyrClip</td>\n",
       "    </tr>\n",
       "    <tr>\n",
       "      <th>3</th>\n",
       "      <td>x1xfraGG</td>\n",
       "      <td>x20kilDab</td>\n",
       "      <td>pvperBastion</td>\n",
       "      <td>chrisBass</td>\n",
       "      <td>daphBeg</td>\n",
       "      <td>jenkinsOK</td>\n",
       "      <td>foheadDrive</td>\n",
       "      <td>5up7</td>\n",
       "      <td>cyxBased</td>\n",
       "      <td>x6lasp8901</td>\n",
       "      <td>...</td>\n",
       "      <td>zombsFeels</td>\n",
       "      <td>zoneBlush</td>\n",
       "      <td>zoomaaBALLS</td>\n",
       "      <td>zorgBurglar</td>\n",
       "      <td>zubBAIT</td>\n",
       "      <td>oogy25</td>\n",
       "      <td>zwagCool</td>\n",
       "      <td>zweBeta</td>\n",
       "      <td>zy0xClown</td>\n",
       "      <td>ttvzyrEww</td>\n",
       "    </tr>\n",
       "    <tr>\n",
       "      <th>4</th>\n",
       "      <td>x1xfraHYPE</td>\n",
       "      <td>x20kilF</td>\n",
       "      <td>pvperBroken</td>\n",
       "      <td>chrisBeg</td>\n",
       "      <td>daphBlind</td>\n",
       "      <td>jenkinsPudge1</td>\n",
       "      <td>foheadGGC</td>\n",
       "      <td>5upBall1</td>\n",
       "      <td>cyxBlank</td>\n",
       "      <td>x6lasp8902</td>\n",
       "      <td>...</td>\n",
       "      <td>zombsGood</td>\n",
       "      <td>zoneBurg</td>\n",
       "      <td>zoomaaBen</td>\n",
       "      <td>zorgCooking</td>\n",
       "      <td>zubBANDIT</td>\n",
       "      <td>oogy3</td>\n",
       "      <td>zwagD</td>\n",
       "      <td>zweBoat</td>\n",
       "      <td>zy0xComfy</td>\n",
       "      <td>ttvzyrGg</td>\n",
       "    </tr>\n",
       "    <tr>\n",
       "      <th>...</th>\n",
       "      <td>...</td>\n",
       "      <td>...</td>\n",
       "      <td>...</td>\n",
       "      <td>...</td>\n",
       "      <td>...</td>\n",
       "      <td>...</td>\n",
       "      <td>...</td>\n",
       "      <td>...</td>\n",
       "      <td>...</td>\n",
       "      <td>...</td>\n",
       "      <td>...</td>\n",
       "      <td>...</td>\n",
       "      <td>...</td>\n",
       "      <td>...</td>\n",
       "      <td>...</td>\n",
       "      <td>...</td>\n",
       "      <td>...</td>\n",
       "      <td>...</td>\n",
       "      <td>...</td>\n",
       "      <td>...</td>\n",
       "      <td>...</td>\n",
       "    </tr>\n",
       "    <tr>\n",
       "      <th>821</th>\n",
       "      <td></td>\n",
       "      <td></td>\n",
       "      <td></td>\n",
       "      <td></td>\n",
       "      <td></td>\n",
       "      <td></td>\n",
       "      <td></td>\n",
       "      <td></td>\n",
       "      <td></td>\n",
       "      <td></td>\n",
       "      <td>...</td>\n",
       "      <td></td>\n",
       "      <td></td>\n",
       "      <td></td>\n",
       "      <td></td>\n",
       "      <td></td>\n",
       "      <td></td>\n",
       "      <td></td>\n",
       "      <td></td>\n",
       "      <td></td>\n",
       "      <td></td>\n",
       "    </tr>\n",
       "    <tr>\n",
       "      <th>822</th>\n",
       "      <td></td>\n",
       "      <td></td>\n",
       "      <td></td>\n",
       "      <td></td>\n",
       "      <td></td>\n",
       "      <td></td>\n",
       "      <td></td>\n",
       "      <td></td>\n",
       "      <td></td>\n",
       "      <td></td>\n",
       "      <td>...</td>\n",
       "      <td></td>\n",
       "      <td></td>\n",
       "      <td></td>\n",
       "      <td></td>\n",
       "      <td></td>\n",
       "      <td></td>\n",
       "      <td></td>\n",
       "      <td></td>\n",
       "      <td></td>\n",
       "      <td></td>\n",
       "    </tr>\n",
       "    <tr>\n",
       "      <th>823</th>\n",
       "      <td></td>\n",
       "      <td></td>\n",
       "      <td></td>\n",
       "      <td></td>\n",
       "      <td></td>\n",
       "      <td></td>\n",
       "      <td></td>\n",
       "      <td></td>\n",
       "      <td></td>\n",
       "      <td></td>\n",
       "      <td>...</td>\n",
       "      <td></td>\n",
       "      <td></td>\n",
       "      <td></td>\n",
       "      <td></td>\n",
       "      <td></td>\n",
       "      <td></td>\n",
       "      <td></td>\n",
       "      <td></td>\n",
       "      <td></td>\n",
       "      <td></td>\n",
       "    </tr>\n",
       "    <tr>\n",
       "      <th>824</th>\n",
       "      <td></td>\n",
       "      <td></td>\n",
       "      <td></td>\n",
       "      <td></td>\n",
       "      <td></td>\n",
       "      <td></td>\n",
       "      <td></td>\n",
       "      <td></td>\n",
       "      <td></td>\n",
       "      <td></td>\n",
       "      <td>...</td>\n",
       "      <td></td>\n",
       "      <td></td>\n",
       "      <td></td>\n",
       "      <td></td>\n",
       "      <td></td>\n",
       "      <td></td>\n",
       "      <td></td>\n",
       "      <td></td>\n",
       "      <td></td>\n",
       "      <td></td>\n",
       "    </tr>\n",
       "    <tr>\n",
       "      <th>825</th>\n",
       "      <td></td>\n",
       "      <td></td>\n",
       "      <td></td>\n",
       "      <td></td>\n",
       "      <td></td>\n",
       "      <td></td>\n",
       "      <td></td>\n",
       "      <td></td>\n",
       "      <td></td>\n",
       "      <td></td>\n",
       "      <td>...</td>\n",
       "      <td></td>\n",
       "      <td></td>\n",
       "      <td></td>\n",
       "      <td></td>\n",
       "      <td></td>\n",
       "      <td></td>\n",
       "      <td></td>\n",
       "      <td></td>\n",
       "      <td></td>\n",
       "      <td></td>\n",
       "    </tr>\n",
       "  </tbody>\n",
       "</table>\n",
       "<p>826 rows × 2379 columns</p>\n",
       "</div>"
      ],
      "text/plain": [
       "      Col_1XFRAZX1    Col_20kilo      Col_2thy Col_360Chrism Col_39daph  \\\n",
       "0       x1xfraFRAZ   x20kilChest    pvper3hard      chrisAww  daph2head   \n",
       "1    x1xfraBlessUP  x20kilChest2    pvperAlarm    chrisAYAYA     daph39   \n",
       "2       x1xfraFraz    x20kilCoin      pvperAsh   chrisBaited    daphArt   \n",
       "3         x1xfraGG     x20kilDab  pvperBastion     chrisBass    daphBeg   \n",
       "4       x1xfraHYPE       x20kilF   pvperBroken      chrisBeg  daphBlind   \n",
       "..             ...           ...           ...           ...        ...   \n",
       "821                                                                       \n",
       "822                                                                       \n",
       "823                                                                       \n",
       "824                                                                       \n",
       "825                                                                       \n",
       "\n",
       "     Col_420jenkins          Col_4HEAD    Col_5up   Col_6Cyx Col_6lasphemous  \\\n",
       "0         jenkinsAY  foheadBOZOSPOTTED  5up5Crumb     cyxAAA       x6lasp30k   \n",
       "1      jenkinsBepis        foheadClown     5up5Fu   cyxAYAYA     x6lasp400iL   \n",
       "2    jenkinsChicken          foheadCry  5up5Tubbo  cyxBadAcc     x6lasp400iR   \n",
       "3         jenkinsOK        foheadDrive       5up7   cyxBased      x6lasp8901   \n",
       "4     jenkinsPudge1          foheadGGC   5upBall1   cyxBlank      x6lasp8902   \n",
       "..              ...                ...        ...        ...             ...   \n",
       "821                                                                            \n",
       "822                                                                            \n",
       "823                                                                            \n",
       "824                                                                            \n",
       "825                                                                            \n",
       "\n",
       "     ...        zombs   ZONEsama          Zoomaa     zorgo_hs  \\\n",
       "0    ...  zombsBanger  zoneAAAAA       zoomaa423        zorg1   \n",
       "1    ...   zombsClown   zoneAngy     zoomaaACHES        zorg8   \n",
       "2    ...    zombsDEAL  zoneAYAYA  zoomaaBadaBoom        zorg9   \n",
       "3    ...   zombsFeels  zoneBlush     zoomaaBALLS  zorgBurglar   \n",
       "4    ...    zombsGood   zoneBurg       zoomaaBen  zorgCooking   \n",
       "..   ...          ...        ...             ...          ...   \n",
       "821  ...                                                        \n",
       "822  ...                                                        \n",
       "823  ...                                                        \n",
       "824  ...                                                        \n",
       "825  ...                                                        \n",
       "\n",
       "            ZubatLEL    ZVCH        Zwag    zwebackhd     Zy0xxx          Zyro  \n",
       "0               zub3   oogy1   zwag200iq       zweWOW   zy0xAngy      ttvzyr30  \n",
       "1    zub420SUBPOINTS  oogy10     zwag6cs  zweAudacity  zy0xBedge  ttvzyrCamera  \n",
       "2           zubAYAYA   oogy2  zwagCannon      zweBaby    zy0xCap    ttvzyrClip  \n",
       "3            zubBAIT  oogy25    zwagCool      zweBeta  zy0xClown     ttvzyrEww  \n",
       "4          zubBANDIT   oogy3       zwagD      zweBoat  zy0xComfy      ttvzyrGg  \n",
       "..               ...     ...         ...          ...        ...           ...  \n",
       "821                                                                             \n",
       "822                                                                             \n",
       "823                                                                             \n",
       "824                                                                             \n",
       "825                                                                             \n",
       "\n",
       "[826 rows x 2379 columns]"
      ]
     },
     "execution_count": 71,
     "metadata": {},
     "output_type": "execute_result"
    }
   ],
   "source": [
    "channel_emotes_df"
   ]
  },
  {
   "cell_type": "code",
   "execution_count": 73,
   "metadata": {},
   "outputs": [
    {
     "name": "stdout",
     "output_type": "stream",
     "text": [
      "      HasanAbi\n",
      "0     has0head\n",
      "1         has5\n",
      "2        hasAY\n",
      "3    hasBaited\n",
      "4    hasBOOMER\n",
      "..         ...\n",
      "821           \n",
      "822           \n",
      "823           \n",
      "824           \n",
      "825           \n",
      "\n",
      "[826 rows x 1 columns]\n",
      "HasanAbi    458\n",
      "dtype: int64\n",
      "      HasanAbi\n",
      "0     has0head\n",
      "1         has5\n",
      "2        hasAY\n",
      "3    hasBaited\n",
      "4    hasBOOMER\n",
      "..         ...\n",
      "363    woeisMe\n",
      "364     Wokege\n",
      "365       WTFF\n",
      "366    xqCaren\n",
      "367    ZZoomer\n",
      "\n",
      "[368 rows x 1 columns]\n"
     ]
    }
   ],
   "source": [
    "hasanabi_emotes = channel_emotes_df[[\"HasanAbi\"]]\n",
    "\n",
    "print(hasanabi_emotes)\n",
    "\n",
    "#Filter out empty cells\n",
    "print((hasanabi_emotes == '').sum()) #Number of empty strings in HasanAbi emotes\n",
    "hasanabi_emotes = hasanabi_emotes[(hasanabi_emotes != '').all(axis = 1)].reset_index(drop = True)\n",
    "\n",
    "print(hasanabi_emotes)"
   ]
  },
  {
   "cell_type": "markdown",
   "metadata": {},
   "source": [
    "## Label the HasanAbi emotes which we know are toxic"
   ]
  },
  {
   "cell_type": "code",
   "execution_count": 75,
   "metadata": {},
   "outputs": [
    {
     "name": "stdout",
     "output_type": "stream",
     "text": [
      "    Unnamed: 0.1  Unnamed: 0             Emote  \\\n",
      "0              0          82             Gayge   \n",
      "1              1          97            Wokege   \n",
      "2              2          99             Sussy   \n",
      "3              3         105      pepeMeltdown   \n",
      "4              4         110            monkaS   \n",
      "5              5         112          has0head   \n",
      "6              6         126    DANKHACKERMANS   \n",
      "7              7         160          PepeSpit   \n",
      "8              8         168         hasSammie   \n",
      "9              9         171           PoroSad   \n",
      "10            10         172      StinkyCheese   \n",
      "11            11         178            MmmHmm   \n",
      "12            12         179         WhatChamp   \n",
      "13            13         180          PUNCHIES   \n",
      "14            14         181      DIESOFCRINGE   \n",
      "15            15         198           hasKapp   \n",
      "16            16         207          hasSilly   \n",
      "17            17         208             FLUSH   \n",
      "18            18         215            Tastge   \n",
      "19            19         224             KKona   \n",
      "20            20         230            RIDING   \n",
      "21            21         231      ItalianHands   \n",
      "22            22         255        HarleyWink   \n",
      "23            23         256        DarkKnight   \n",
      "24            24         269  TransgenderPride   \n",
      "25            25         270              Grrr   \n",
      "26            26         271                :P   \n",
      "27            27         285        dankCrayon   \n",
      "28            28         298          peepoBye   \n",
      "\n",
      "    Number of times emote was toxic  Number of times emote was NOT toxic  \\\n",
      "0                                 7                                    4   \n",
      "1                                16                                   11   \n",
      "2                                56                                   13   \n",
      "3                                10                                    7   \n",
      "4                                 6                                    3   \n",
      "5                                 8                                    2   \n",
      "6                                 6                                    1   \n",
      "7                                21                                   12   \n",
      "8                                 4                                    0   \n",
      "9                                 1                                    1   \n",
      "10                                1                                    0   \n",
      "11                                1                                    0   \n",
      "12                                8                                    1   \n",
      "13                                1                                    0   \n",
      "14                                1                                    0   \n",
      "15                                1                                    1   \n",
      "16                                4                                    0   \n",
      "17                                8                                    2   \n",
      "18                                2                                    1   \n",
      "19                                1                                    1   \n",
      "20                                7                                    1   \n",
      "21                                1                                    0   \n",
      "22                                1                                    0   \n",
      "23                                1                                    0   \n",
      "24                                5                                    0   \n",
      "25                                2                                    1   \n",
      "26                                1                                    0   \n",
      "27                                3                                    1   \n",
      "28                                1                                    0   \n",
      "\n",
      "    Global emote Channel emote  Toxicity Ratio  Harmful score  \n",
      "0           True         False        0.636364      11.636364  \n",
      "1          False      HasanAbi        0.592593      27.592593  \n",
      "2          False      HasanAbi        0.811594      69.811594  \n",
      "3          False      HasanAbi        0.588235      17.588235  \n",
      "4           True         False        0.666667       9.666667  \n",
      "5          False      HasanAbi        0.800000      10.800000  \n",
      "6          False      HasanAbi        0.857143       7.857143  \n",
      "7          False      HasanAbi        0.636364      33.636364  \n",
      "8          False      HasanAbi        1.000000       5.000000  \n",
      "9           True         False        0.500000       2.500000  \n",
      "10          True         False        1.000000       2.000000  \n",
      "11         False      HasanAbi        1.000000       2.000000  \n",
      "12         False      HasanAbi        0.888889       9.888889  \n",
      "13         False      HasanAbi        1.000000       2.000000  \n",
      "14         False      HasanAbi        1.000000       2.000000  \n",
      "15         False      HasanAbi        0.500000       2.500000  \n",
      "16         False      HasanAbi        1.000000       5.000000  \n",
      "17         False      HasanAbi        0.800000      10.800000  \n",
      "18         False      HasanAbi        0.666667       3.666667  \n",
      "19          True         False        0.500000       2.500000  \n",
      "20         False      HasanAbi        0.875000       8.875000  \n",
      "21         False      HasanAbi        1.000000       2.000000  \n",
      "22          True         False        1.000000       2.000000  \n",
      "23          True         False        1.000000       2.000000  \n",
      "24          True         False        1.000000       6.000000  \n",
      "25         False      HasanAbi        0.666667       3.666667  \n",
      "26          True         False        1.000000       2.000000  \n",
      "27         False      HasanAbi        0.750000       4.750000  \n",
      "28         False      HasanAbi        1.000000       2.000000  \n"
     ]
    }
   ],
   "source": [
    "#Read harmful emotes extracted into a dataframe\n",
    "harmful_emotes_df = pd.read_csv(\"Harmfulemotes_analysis.csv\")\n",
    "print(harmful_emotes_df)"
   ]
  },
  {
   "cell_type": "markdown",
   "metadata": {},
   "source": [
    "Some of the harmful emotes we identified are actually global in that harmful_emotenalysis.csv file are global so we remove them to get only the toxic HasanAbi emotes"
   ]
  },
  {
   "cell_type": "code",
   "execution_count": 77,
   "metadata": {},
   "outputs": [
    {
     "data": {
      "text/html": [
       "<div>\n",
       "<style scoped>\n",
       "    .dataframe tbody tr th:only-of-type {\n",
       "        vertical-align: middle;\n",
       "    }\n",
       "\n",
       "    .dataframe tbody tr th {\n",
       "        vertical-align: top;\n",
       "    }\n",
       "\n",
       "    .dataframe thead th {\n",
       "        text-align: right;\n",
       "    }\n",
       "</style>\n",
       "<table border=\"1\" class=\"dataframe\">\n",
       "  <thead>\n",
       "    <tr style=\"text-align: right;\">\n",
       "      <th></th>\n",
       "      <th>Unnamed: 0.1</th>\n",
       "      <th>Unnamed: 0</th>\n",
       "      <th>Emote</th>\n",
       "      <th>Number of times emote was toxic</th>\n",
       "      <th>Number of times emote was NOT toxic</th>\n",
       "      <th>Global emote</th>\n",
       "      <th>Channel emote</th>\n",
       "      <th>Toxicity Ratio</th>\n",
       "      <th>Harmful score</th>\n",
       "    </tr>\n",
       "  </thead>\n",
       "  <tbody>\n",
       "    <tr>\n",
       "      <th>0</th>\n",
       "      <td>1</td>\n",
       "      <td>97</td>\n",
       "      <td>Wokege</td>\n",
       "      <td>16</td>\n",
       "      <td>11</td>\n",
       "      <td>False</td>\n",
       "      <td>HasanAbi</td>\n",
       "      <td>0.592593</td>\n",
       "      <td>27.592593</td>\n",
       "    </tr>\n",
       "    <tr>\n",
       "      <th>1</th>\n",
       "      <td>2</td>\n",
       "      <td>99</td>\n",
       "      <td>Sussy</td>\n",
       "      <td>56</td>\n",
       "      <td>13</td>\n",
       "      <td>False</td>\n",
       "      <td>HasanAbi</td>\n",
       "      <td>0.811594</td>\n",
       "      <td>69.811594</td>\n",
       "    </tr>\n",
       "    <tr>\n",
       "      <th>2</th>\n",
       "      <td>3</td>\n",
       "      <td>105</td>\n",
       "      <td>pepeMeltdown</td>\n",
       "      <td>10</td>\n",
       "      <td>7</td>\n",
       "      <td>False</td>\n",
       "      <td>HasanAbi</td>\n",
       "      <td>0.588235</td>\n",
       "      <td>17.588235</td>\n",
       "    </tr>\n",
       "    <tr>\n",
       "      <th>3</th>\n",
       "      <td>5</td>\n",
       "      <td>112</td>\n",
       "      <td>has0head</td>\n",
       "      <td>8</td>\n",
       "      <td>2</td>\n",
       "      <td>False</td>\n",
       "      <td>HasanAbi</td>\n",
       "      <td>0.800000</td>\n",
       "      <td>10.800000</td>\n",
       "    </tr>\n",
       "    <tr>\n",
       "      <th>4</th>\n",
       "      <td>6</td>\n",
       "      <td>126</td>\n",
       "      <td>DANKHACKERMANS</td>\n",
       "      <td>6</td>\n",
       "      <td>1</td>\n",
       "      <td>False</td>\n",
       "      <td>HasanAbi</td>\n",
       "      <td>0.857143</td>\n",
       "      <td>7.857143</td>\n",
       "    </tr>\n",
       "    <tr>\n",
       "      <th>5</th>\n",
       "      <td>7</td>\n",
       "      <td>160</td>\n",
       "      <td>PepeSpit</td>\n",
       "      <td>21</td>\n",
       "      <td>12</td>\n",
       "      <td>False</td>\n",
       "      <td>HasanAbi</td>\n",
       "      <td>0.636364</td>\n",
       "      <td>33.636364</td>\n",
       "    </tr>\n",
       "    <tr>\n",
       "      <th>6</th>\n",
       "      <td>8</td>\n",
       "      <td>168</td>\n",
       "      <td>hasSammie</td>\n",
       "      <td>4</td>\n",
       "      <td>0</td>\n",
       "      <td>False</td>\n",
       "      <td>HasanAbi</td>\n",
       "      <td>1.000000</td>\n",
       "      <td>5.000000</td>\n",
       "    </tr>\n",
       "    <tr>\n",
       "      <th>7</th>\n",
       "      <td>11</td>\n",
       "      <td>178</td>\n",
       "      <td>MmmHmm</td>\n",
       "      <td>1</td>\n",
       "      <td>0</td>\n",
       "      <td>False</td>\n",
       "      <td>HasanAbi</td>\n",
       "      <td>1.000000</td>\n",
       "      <td>2.000000</td>\n",
       "    </tr>\n",
       "    <tr>\n",
       "      <th>8</th>\n",
       "      <td>12</td>\n",
       "      <td>179</td>\n",
       "      <td>WhatChamp</td>\n",
       "      <td>8</td>\n",
       "      <td>1</td>\n",
       "      <td>False</td>\n",
       "      <td>HasanAbi</td>\n",
       "      <td>0.888889</td>\n",
       "      <td>9.888889</td>\n",
       "    </tr>\n",
       "    <tr>\n",
       "      <th>9</th>\n",
       "      <td>13</td>\n",
       "      <td>180</td>\n",
       "      <td>PUNCHIES</td>\n",
       "      <td>1</td>\n",
       "      <td>0</td>\n",
       "      <td>False</td>\n",
       "      <td>HasanAbi</td>\n",
       "      <td>1.000000</td>\n",
       "      <td>2.000000</td>\n",
       "    </tr>\n",
       "    <tr>\n",
       "      <th>10</th>\n",
       "      <td>14</td>\n",
       "      <td>181</td>\n",
       "      <td>DIESOFCRINGE</td>\n",
       "      <td>1</td>\n",
       "      <td>0</td>\n",
       "      <td>False</td>\n",
       "      <td>HasanAbi</td>\n",
       "      <td>1.000000</td>\n",
       "      <td>2.000000</td>\n",
       "    </tr>\n",
       "    <tr>\n",
       "      <th>11</th>\n",
       "      <td>15</td>\n",
       "      <td>198</td>\n",
       "      <td>hasKapp</td>\n",
       "      <td>1</td>\n",
       "      <td>1</td>\n",
       "      <td>False</td>\n",
       "      <td>HasanAbi</td>\n",
       "      <td>0.500000</td>\n",
       "      <td>2.500000</td>\n",
       "    </tr>\n",
       "    <tr>\n",
       "      <th>12</th>\n",
       "      <td>16</td>\n",
       "      <td>207</td>\n",
       "      <td>hasSilly</td>\n",
       "      <td>4</td>\n",
       "      <td>0</td>\n",
       "      <td>False</td>\n",
       "      <td>HasanAbi</td>\n",
       "      <td>1.000000</td>\n",
       "      <td>5.000000</td>\n",
       "    </tr>\n",
       "    <tr>\n",
       "      <th>13</th>\n",
       "      <td>17</td>\n",
       "      <td>208</td>\n",
       "      <td>FLUSH</td>\n",
       "      <td>8</td>\n",
       "      <td>2</td>\n",
       "      <td>False</td>\n",
       "      <td>HasanAbi</td>\n",
       "      <td>0.800000</td>\n",
       "      <td>10.800000</td>\n",
       "    </tr>\n",
       "    <tr>\n",
       "      <th>14</th>\n",
       "      <td>18</td>\n",
       "      <td>215</td>\n",
       "      <td>Tastge</td>\n",
       "      <td>2</td>\n",
       "      <td>1</td>\n",
       "      <td>False</td>\n",
       "      <td>HasanAbi</td>\n",
       "      <td>0.666667</td>\n",
       "      <td>3.666667</td>\n",
       "    </tr>\n",
       "    <tr>\n",
       "      <th>15</th>\n",
       "      <td>20</td>\n",
       "      <td>230</td>\n",
       "      <td>RIDING</td>\n",
       "      <td>7</td>\n",
       "      <td>1</td>\n",
       "      <td>False</td>\n",
       "      <td>HasanAbi</td>\n",
       "      <td>0.875000</td>\n",
       "      <td>8.875000</td>\n",
       "    </tr>\n",
       "    <tr>\n",
       "      <th>16</th>\n",
       "      <td>21</td>\n",
       "      <td>231</td>\n",
       "      <td>ItalianHands</td>\n",
       "      <td>1</td>\n",
       "      <td>0</td>\n",
       "      <td>False</td>\n",
       "      <td>HasanAbi</td>\n",
       "      <td>1.000000</td>\n",
       "      <td>2.000000</td>\n",
       "    </tr>\n",
       "    <tr>\n",
       "      <th>17</th>\n",
       "      <td>25</td>\n",
       "      <td>270</td>\n",
       "      <td>Grrr</td>\n",
       "      <td>2</td>\n",
       "      <td>1</td>\n",
       "      <td>False</td>\n",
       "      <td>HasanAbi</td>\n",
       "      <td>0.666667</td>\n",
       "      <td>3.666667</td>\n",
       "    </tr>\n",
       "    <tr>\n",
       "      <th>18</th>\n",
       "      <td>27</td>\n",
       "      <td>285</td>\n",
       "      <td>dankCrayon</td>\n",
       "      <td>3</td>\n",
       "      <td>1</td>\n",
       "      <td>False</td>\n",
       "      <td>HasanAbi</td>\n",
       "      <td>0.750000</td>\n",
       "      <td>4.750000</td>\n",
       "    </tr>\n",
       "    <tr>\n",
       "      <th>19</th>\n",
       "      <td>28</td>\n",
       "      <td>298</td>\n",
       "      <td>peepoBye</td>\n",
       "      <td>1</td>\n",
       "      <td>0</td>\n",
       "      <td>False</td>\n",
       "      <td>HasanAbi</td>\n",
       "      <td>1.000000</td>\n",
       "      <td>2.000000</td>\n",
       "    </tr>\n",
       "  </tbody>\n",
       "</table>\n",
       "</div>"
      ],
      "text/plain": [
       "    Unnamed: 0.1  Unnamed: 0           Emote  Number of times emote was toxic  \\\n",
       "0              1          97          Wokege                               16   \n",
       "1              2          99           Sussy                               56   \n",
       "2              3         105    pepeMeltdown                               10   \n",
       "3              5         112        has0head                                8   \n",
       "4              6         126  DANKHACKERMANS                                6   \n",
       "5              7         160        PepeSpit                               21   \n",
       "6              8         168       hasSammie                                4   \n",
       "7             11         178          MmmHmm                                1   \n",
       "8             12         179       WhatChamp                                8   \n",
       "9             13         180        PUNCHIES                                1   \n",
       "10            14         181    DIESOFCRINGE                                1   \n",
       "11            15         198         hasKapp                                1   \n",
       "12            16         207        hasSilly                                4   \n",
       "13            17         208           FLUSH                                8   \n",
       "14            18         215          Tastge                                2   \n",
       "15            20         230          RIDING                                7   \n",
       "16            21         231    ItalianHands                                1   \n",
       "17            25         270            Grrr                                2   \n",
       "18            27         285      dankCrayon                                3   \n",
       "19            28         298        peepoBye                                1   \n",
       "\n",
       "    Number of times emote was NOT toxic  Global emote Channel emote  \\\n",
       "0                                    11         False      HasanAbi   \n",
       "1                                    13         False      HasanAbi   \n",
       "2                                     7         False      HasanAbi   \n",
       "3                                     2         False      HasanAbi   \n",
       "4                                     1         False      HasanAbi   \n",
       "5                                    12         False      HasanAbi   \n",
       "6                                     0         False      HasanAbi   \n",
       "7                                     0         False      HasanAbi   \n",
       "8                                     1         False      HasanAbi   \n",
       "9                                     0         False      HasanAbi   \n",
       "10                                    0         False      HasanAbi   \n",
       "11                                    1         False      HasanAbi   \n",
       "12                                    0         False      HasanAbi   \n",
       "13                                    2         False      HasanAbi   \n",
       "14                                    1         False      HasanAbi   \n",
       "15                                    1         False      HasanAbi   \n",
       "16                                    0         False      HasanAbi   \n",
       "17                                    1         False      HasanAbi   \n",
       "18                                    1         False      HasanAbi   \n",
       "19                                    0         False      HasanAbi   \n",
       "\n",
       "    Toxicity Ratio  Harmful score  \n",
       "0         0.592593      27.592593  \n",
       "1         0.811594      69.811594  \n",
       "2         0.588235      17.588235  \n",
       "3         0.800000      10.800000  \n",
       "4         0.857143       7.857143  \n",
       "5         0.636364      33.636364  \n",
       "6         1.000000       5.000000  \n",
       "7         1.000000       2.000000  \n",
       "8         0.888889       9.888889  \n",
       "9         1.000000       2.000000  \n",
       "10        1.000000       2.000000  \n",
       "11        0.500000       2.500000  \n",
       "12        1.000000       5.000000  \n",
       "13        0.800000      10.800000  \n",
       "14        0.666667       3.666667  \n",
       "15        0.875000       8.875000  \n",
       "16        1.000000       2.000000  \n",
       "17        0.666667       3.666667  \n",
       "18        0.750000       4.750000  \n",
       "19        1.000000       2.000000  "
      ]
     },
     "execution_count": 77,
     "metadata": {},
     "output_type": "execute_result"
    }
   ],
   "source": [
    "harmfulHasanAbiEmotes_df = harmful_emotes_df[harmful_emotes_df[\"Channel emote\"] == \"HasanAbi\"].reset_index(drop = True)\n",
    "harmfulHasanAbiEmotes_df"
   ]
  },
  {
   "cell_type": "code",
   "execution_count": 78,
   "metadata": {},
   "outputs": [
    {
     "name": "stdout",
     "output_type": "stream",
     "text": [
      "0             Wokege\n",
      "1              Sussy\n",
      "2       pepeMeltdown\n",
      "3           has0head\n",
      "4     DANKHACKERMANS\n",
      "5           PepeSpit\n",
      "6          hasSammie\n",
      "7             MmmHmm\n",
      "8          WhatChamp\n",
      "9           PUNCHIES\n",
      "10      DIESOFCRINGE\n",
      "11           hasKapp\n",
      "12          hasSilly\n",
      "13             FLUSH\n",
      "14            Tastge\n",
      "15            RIDING\n",
      "16      ItalianHands\n",
      "17              Grrr\n",
      "18        dankCrayon\n",
      "19          peepoBye\n",
      "Name: Emote, dtype: object\n",
      "<class 'pandas.core.series.Series'>\n"
     ]
    }
   ],
   "source": [
    "harmfulHasanAbiEmotes = harmfulHasanAbiEmotes_df[\"Emote\"] #20 harmful HasanAbi emotes\n",
    "print(harmfulHasanAbiEmotes)\n",
    "print(type(harmfulHasanAbiEmotes))"
   ]
  },
  {
   "cell_type": "code",
   "execution_count": 79,
   "metadata": {},
   "outputs": [
    {
     "name": "stdout",
     "output_type": "stream",
     "text": [
      "      HasanAbi\n",
      "0     has0head\n",
      "1         has5\n",
      "2        hasAY\n",
      "3    hasBaited\n",
      "4    hasBOOMER\n",
      "..         ...\n",
      "363    woeisMe\n",
      "364     Wokege\n",
      "365       WTFF\n",
      "366    xqCaren\n",
      "367    ZZoomer\n",
      "\n",
      "[368 rows x 1 columns]\n"
     ]
    }
   ],
   "source": [
    "print(hasanabi_emotes)"
   ]
  },
  {
   "cell_type": "markdown",
   "metadata": {},
   "source": [
    "Label HasanAbi emotes which are toxic according to the harmful HasanAbi emotes we have"
   ]
  },
  {
   "cell_type": "code",
   "execution_count": 80,
   "metadata": {},
   "outputs": [],
   "source": [
    "hasanabi_emotes['is_toxic'] = hasanabi_emotes[\"HasanAbi\"].isin(harmfulHasanAbiEmotes)"
   ]
  },
  {
   "cell_type": "code",
   "execution_count": 82,
   "metadata": {},
   "outputs": [
    {
     "name": "stdout",
     "output_type": "stream",
     "text": [
      "      HasanAbi  is_toxic\n",
      "0     has0head      True\n",
      "1         has5     False\n",
      "2        hasAY     False\n",
      "3    hasBaited     False\n",
      "4    hasBOOMER     False\n",
      "..         ...       ...\n",
      "363    woeisMe     False\n",
      "364     Wokege      True\n",
      "365       WTFF     False\n",
      "366    xqCaren     False\n",
      "367    ZZoomer     False\n",
      "\n",
      "[368 rows x 2 columns]\n",
      "False    348\n",
      "True      20\n",
      "Name: is_toxic, dtype: int64\n"
     ]
    }
   ],
   "source": [
    "print(hasanabi_emotes)\n",
    "print(hasanabi_emotes[\"is_toxic\"].value_counts())"
   ]
  },
  {
   "cell_type": "markdown",
   "metadata": {},
   "source": [
    "Now we have the dataframe of HasanAbi emotes and they are labelled with whether they are toxic or not. We can map these emotes to their embeddings"
   ]
  },
  {
   "cell_type": "code",
   "execution_count": 83,
   "metadata": {},
   "outputs": [
    {
     "name": "stdout",
     "output_type": "stream",
     "text": [
      "      HasanAbi  is_toxic  embedding\n",
      "0     has0head      True        NaN\n",
      "1         has5     False        NaN\n",
      "2        hasAY     False        NaN\n",
      "3    hasBaited     False        NaN\n",
      "4    hasBOOMER     False        NaN\n",
      "..         ...       ...        ...\n",
      "363    woeisMe     False        NaN\n",
      "364     Wokege      True        NaN\n",
      "365       WTFF     False        NaN\n",
      "366    xqCaren     False        NaN\n",
      "367    ZZoomer     False        NaN\n",
      "\n",
      "[368 rows x 3 columns]\n"
     ]
    }
   ],
   "source": [
    "index = 0\n",
    "hasanabi_emotes[\"embedding\"] = np.nan\n",
    "print(hasanabi_emotes)"
   ]
  },
  {
   "cell_type": "code",
   "execution_count": 84,
   "metadata": {},
   "outputs": [
    {
     "name": "stdout",
     "output_type": "stream",
     "text": [
      "      HasanAbi  is_toxic                                          embedding\n",
      "0     has0head      True  [ 1.37839720e-01 -3.40588200e-02  3.96217230e-...\n",
      "1         has5     False  [-8.20994900e-01 -1.42091270e-01  1.84934460e-...\n",
      "2        hasAY     False  [-9.39330000e-01  8.88686850e-02 -9.86998300e-...\n",
      "3    hasBaited     False  [-3.97825360e-01 -6.52410300e-01  8.84840700e-...\n",
      "4    hasBOOMER     False  [-3.17919050e-01 -3.86311400e-02 -3.31497760e-...\n",
      "..         ...       ...                                                ...\n",
      "363    woeisMe     False                                     Does not exist\n",
      "364     Wokege      True                                     Does not exist\n",
      "365       WTFF     False                                     Does not exist\n",
      "366    xqCaren     False                                     Does not exist\n",
      "367    ZZoomer     False                                     Does not exist\n",
      "\n",
      "[368 rows x 3 columns]\n"
     ]
    }
   ],
   "source": [
    "for current_emote in hasanabi_emotes[\"HasanAbi\"]: #Go through each HasanAbi emote (some are harmful/toxic and some are not)\n",
    "    \n",
    "    #Search for the index of where we find this emote in the emote labels dataframe\n",
    "    matching_index = emotes_only_labels_df.index[emotes_only_labels_df['word'] == current_emote].tolist()\n",
    "    if len(matching_index) == 0: #maybe emote is stored in lowercase form\n",
    "        matching_index = emotes_only_labels_df.index[emotes_only_labels_df['word'].str.lower() == current_emote.lower()].tolist()\n",
    "    \n",
    "    if len(matching_index) == 0: #if emote was not found in the emote labels dataframe\n",
    "        hasanabi_emotes.at[index, \"embedding\"] = \"Does not exist\"\n",
    "        index += 1\n",
    "        continue\n",
    "    \n",
    "    #Retrieve the 500 element vector corresponding to this emote using the matching_index\n",
    "    embedding_vector = emote_embeddings_df.iloc[matching_index[0]].values\n",
    "    #print(type(embedding_vector))\n",
    "\n",
    "    hasanabi_emotes.iloc[index, hasanabi_emotes.columns.get_loc(\"embedding\")] = np.array_str(embedding_vector)\n",
    "    index += 1\n",
    "\n",
    "print(hasanabi_emotes)"
   ]
  },
  {
   "cell_type": "markdown",
   "metadata": {},
   "source": [
    "Many HasanAbi emotes (including the channel bttv ones) just do not have embeddings in the emote embedding dataframe"
   ]
  },
  {
   "cell_type": "code",
   "execution_count": 85,
   "metadata": {},
   "outputs": [
    {
     "name": "stdout",
     "output_type": "stream",
     "text": [
      "293\n",
      "      HasanAbi  is_toxic                                          embedding\n",
      "0     has0head      True  [ 1.37839720e-01 -3.40588200e-02  3.96217230e-...\n",
      "1         has5     False  [-8.20994900e-01 -1.42091270e-01  1.84934460e-...\n",
      "2        hasAY     False  [-9.39330000e-01  8.88686850e-02 -9.86998300e-...\n",
      "3    hasBaited     False  [-3.97825360e-01 -6.52410300e-01  8.84840700e-...\n",
      "4    hasBOOMER     False  [-3.17919050e-01 -3.86311400e-02 -3.31497760e-...\n",
      "..         ...       ...                                                ...\n",
      "70       Stare     False  [ 2.75475770e-01 -4.00699380e-01 -1.32715820e+...\n",
      "71    sumSmash     False  [-3.50056650e-01 -6.38177600e-02 -2.23187630e-...\n",
      "72     TeaTime     False  [-0.99884254 -0.45608458 -0.28528324 -0.344044...\n",
      "73  WAYTOODANK     False  [ 2.01232340e-01  1.37800630e+00 -3.69203930e-...\n",
      "74    WineTime     False  [-1.50388300e+00 -1.29018840e+00  4.01657970e-...\n",
      "\n",
      "[75 rows x 3 columns]\n"
     ]
    }
   ],
   "source": [
    "print((hasanabi_emotes[\"embedding\"] == 'Does not exist').sum())\n",
    "\n",
    "#Filter out emotes which don't have an embedding since we cannot compute the similarity of those emotes to the HasanAbi emotes\n",
    "hasanabi_emotes = hasanabi_emotes[hasanabi_emotes[\"embedding\"] != 'Does not exist'].reset_index(drop = True)\n",
    "print(hasanabi_emotes)"
   ]
  },
  {
   "cell_type": "code",
   "execution_count": 86,
   "metadata": {},
   "outputs": [
    {
     "name": "stdout",
     "output_type": "stream",
     "text": [
      "False    71\n",
      "True      4\n",
      "Name: is_toxic, dtype: int64\n"
     ]
    }
   ],
   "source": [
    "print(hasanabi_emotes[\"is_toxic\"].value_counts())"
   ]
  },
  {
   "cell_type": "code",
   "execution_count": 87,
   "metadata": {},
   "outputs": [],
   "source": [
    "hasanabiembeddingsarray = np.zeros((75, 500))\n",
    "\n",
    "#go through each rw\n",
    "for index, row in hasanabi_emotes.iterrows():\n",
    "    elements = row[\"embedding\"].replace('[', '').replace(']', '').split()\n",
    "    #Convery to numpy array\n",
    "    arr = np.array(elements, dtype=float)\n",
    "    hasanabiembeddingsarray[index] = arr"
   ]
  },
  {
   "cell_type": "code",
   "execution_count": 88,
   "metadata": {},
   "outputs": [
    {
     "name": "stdout",
     "output_type": "stream",
     "text": [
      "[[ 0.13783972 -0.03405882  0.39621723 ... -1.0821965   0.33165836\n",
      "  -0.47801593]\n",
      " [-0.8209949  -0.14209127  0.01849345 ...  0.23785803  1.0612733\n",
      "  -0.22610746]\n",
      " [-0.93933     0.08886869 -0.9869983  ... -0.7714897   0.29356965\n",
      "  -0.9408623 ]\n",
      " ...\n",
      " [-0.99884254 -0.45608458 -0.28528324 ... -0.7998582   0.7744122\n",
      "  -0.5813083 ]\n",
      " [ 0.20123234  1.3780063  -0.36920393 ... -0.6883285   0.53371143\n",
      "  -0.8311688 ]\n",
      " [-1.503883   -1.2901884   0.40165797 ... -1.134951    0.1913732\n",
      "   0.637556  ]] (75, 500)\n"
     ]
    }
   ],
   "source": [
    "print(hasanabiembeddingsarray, hasanabiembeddingsarray.shape)"
   ]
  },
  {
   "cell_type": "code",
   "execution_count": 89,
   "metadata": {},
   "outputs": [
    {
     "name": "stdout",
     "output_type": "stream",
     "text": [
      "<class 'numpy.ndarray'>\n",
      "(75, 500)\n"
     ]
    }
   ],
   "source": [
    "print(type(hasanabiembeddingsarray))\n",
    "print(hasanabiembeddingsarray.shape)\n"
   ]
  },
  {
   "cell_type": "markdown",
   "metadata": {},
   "source": [
    "## Train TSNE on HasanAbi embeddings"
   ]
  },
  {
   "cell_type": "markdown",
   "metadata": {},
   "source": [
    "PCA is not needed before t-SNE for only HasanAbi's embeddings because its only a few emotes (unlike the entire emote embedding space which had over 65k emotes)"
   ]
  },
  {
   "cell_type": "code",
   "execution_count": 90,
   "metadata": {},
   "outputs": [],
   "source": [
    "tsne = TSNE(n_components = 2, random_state= 42, perplexity = 15, learning_rate = 5, n_iter = 500)\n",
    "embeddings_2d = tsne.fit_transform(hasanabiembeddingsarray)"
   ]
  },
  {
   "cell_type": "code",
   "execution_count": 91,
   "metadata": {},
   "outputs": [
    {
     "name": "stdout",
     "output_type": "stream",
     "text": [
      "[[-2.13540745e+00 -2.68738532e+00]\n",
      " [-1.26181912e+00 -1.34126043e+00]\n",
      " [-1.07306385e+00 -1.20958716e-01]\n",
      " [-2.06585574e+00 -1.45692956e+00]\n",
      " [-1.89615619e+00 -8.11303854e-01]\n",
      " [-1.43755639e+00  5.49130976e-01]\n",
      " [ 1.68184328e+00 -1.35026860e+00]\n",
      " [-2.22787976e+00 -2.81433630e+00]\n",
      " [-7.46642172e-01 -2.15946287e-02]\n",
      " [-1.78143477e+00 -4.08440161e+00]\n",
      " [-2.46506527e-01 -2.81216167e-02]\n",
      " [-1.89373994e+00 -5.54693162e-01]\n",
      " [-1.62298095e+00 -1.18755913e+00]\n",
      " [-7.47220218e-01 -8.03847969e-01]\n",
      " [ 1.50233805e+00 -1.30745578e+00]\n",
      " [-8.30236197e-01 -9.39019799e-01]\n",
      " [-1.93448937e+00 -8.50590944e-01]\n",
      " [-2.76667792e-02 -1.35774183e+00]\n",
      " [-3.60066473e-01 -1.55407226e+00]\n",
      " [ 7.11056769e-01  9.35327232e-01]\n",
      " [-2.59497046e+00 -8.77464354e-01]\n",
      " [ 6.79637671e-01  9.33010340e-01]\n",
      " [-1.98355567e+00 -1.62658191e+00]\n",
      " [-1.73919916e+00 -3.95279813e+00]\n",
      " [ 3.10394138e-01 -1.87628245e+00]\n",
      " [ 6.34702206e-01  8.80805433e-01]\n",
      " [ 2.43335509e+00  4.91856247e-01]\n",
      " [-1.37972689e+00 -1.04359722e+00]\n",
      " [-7.73948133e-01 -2.89072490e+00]\n",
      " [-1.35611367e+00 -1.41083217e+00]\n",
      " [-2.78966594e+00 -1.46331835e+00]\n",
      " [-1.79225230e+00 -1.09177256e+00]\n",
      " [-2.85166645e+00 -2.97606969e+00]\n",
      " [-3.25877047e+00 -1.78112268e-01]\n",
      " [-2.89281797e+00 -2.18852854e+00]\n",
      " [-2.03416038e+00 -8.17996562e-01]\n",
      " [-7.08748400e-01 -8.07429433e-01]\n",
      " [ 4.20905769e-01 -4.85560983e-01]\n",
      " [ 5.46942234e-01 -4.42158967e-01]\n",
      " [-4.61649269e-01  1.21785676e+00]\n",
      " [-9.03856754e-01 -8.25302422e-01]\n",
      " [-8.43198955e-01 -2.43414497e+00]\n",
      " [ 7.15707183e-01 -2.53016734e+00]\n",
      " [-3.55765581e-01 -1.97832155e+00]\n",
      " [-1.91726112e+00  9.14037824e-01]\n",
      " [ 2.41736794e+00  5.03759205e-01]\n",
      " [-1.94969845e+00 -2.52877891e-01]\n",
      " [-8.75191331e-01 -8.44468653e-01]\n",
      " [-2.29324579e+00 -1.72426927e+00]\n",
      " [ 2.67464966e-01 -2.59196281e+00]\n",
      " [-1.21184695e+00 -9.40954268e-01]\n",
      " [-9.57157433e-01 -1.82144165e+00]\n",
      " [-8.55078101e-01  3.50382924e-03]\n",
      " [-1.31720567e+00 -2.03533030e+00]\n",
      " [-1.35024714e+00 -1.49626172e+00]\n",
      " [-1.80592144e+00 -2.22888327e+00]\n",
      " [-3.17707062e+00 -1.18944430e+00]\n",
      " [-1.02396297e+00 -9.50504243e-01]\n",
      " [-6.63928568e-01 -3.32729053e+00]\n",
      " [-2.13127041e+00 -1.35816288e+00]\n",
      " [ 1.84193432e-01 -7.00108051e-01]\n",
      " [-2.95760226e+00 -1.08158541e+00]\n",
      " [-1.04581225e+00  1.12144876e+00]\n",
      " [-1.98947597e+00  2.73577952e+00]\n",
      " [-1.99001312e+00  2.78719950e+00]\n",
      " [-3.67189002e+00 -1.38729401e-02]\n",
      " [-3.73462296e+00 -1.79443395e+00]\n",
      " [-2.63115191e+00  1.17176664e+00]\n",
      " [-2.69051933e+00  9.67302620e-02]\n",
      " [-2.11547923e+00  3.89202207e-01]\n",
      " [-3.80673385e+00 -2.41676140e+00]\n",
      " [-2.50270629e+00 -1.73303619e-01]\n",
      " [-4.24249697e+00 -5.51702619e-01]\n",
      " [-3.33678102e+00  7.27220833e-01]\n",
      " [-4.19870234e+00 -1.03454459e+00]]\n",
      "(75, 2)\n"
     ]
    }
   ],
   "source": [
    "print(embeddings_2d)\n",
    "print(embeddings_2d.shape)"
   ]
  },
  {
   "cell_type": "markdown",
   "metadata": {},
   "source": [
    "## Visualize HasanAbi embedding space after TSNE"
   ]
  },
  {
   "cell_type": "code",
   "execution_count": 92,
   "metadata": {},
   "outputs": [
    {
     "data": {
      "text/plain": [
       "[0, 22, 47, 48]"
      ]
     },
     "execution_count": 92,
     "metadata": {},
     "output_type": "execute_result"
    }
   ],
   "source": [
    "matching_i = hasanabi_emotes.index[hasanabi_emotes[\"is_toxic\"] == True].tolist()\n",
    "\n",
    "matching_i"
   ]
  },
  {
   "cell_type": "code",
   "execution_count": 93,
   "metadata": {},
   "outputs": [
    {
     "name": "stdout",
     "output_type": "stream",
     "text": [
      "0      has0head\n",
      "22      hasKapp\n",
      "47    hasSammie\n",
      "48     hasSilly\n",
      "Name: HasanAbi, dtype: object\n"
     ]
    }
   ],
   "source": [
    "print(hasanabi_emotes[\"HasanAbi\"][matching_i]) "
   ]
  },
  {
   "cell_type": "code",
   "execution_count": 94,
   "metadata": {},
   "outputs": [],
   "source": [
    "import plotly.express as px"
   ]
  },
  {
   "cell_type": "code",
   "execution_count": 97,
   "metadata": {},
   "outputs": [
    {
     "name": "stdout",
     "output_type": "stream",
     "text": [
      "    t-SNE component 1  t-SNE component 2 emote_label toxicity_label\n",
      "0           -2.135407          -2.687385    has0head          toxic\n",
      "1           -1.261819          -1.341260        has5      not toxic\n",
      "2           -1.073064          -0.120959       hasAY      not toxic\n",
      "3           -2.065856          -1.456930   hasBaited      not toxic\n",
      "4           -1.896156          -0.811304   hasBOOMER      not toxic\n",
      "..                ...                ...         ...            ...\n",
      "70          -3.806734          -2.416761       Stare      not toxic\n",
      "71          -2.502706          -0.173304    sumSmash      not toxic\n",
      "72          -4.242497          -0.551703     TeaTime      not toxic\n",
      "73          -3.336781           0.727221  WAYTOODANK      not toxic\n",
      "74          -4.198702          -1.034545    WineTime      not toxic\n",
      "\n",
      "[75 rows x 4 columns]\n"
     ]
    }
   ],
   "source": [
    "# Plot the t-SNE output\n",
    "x = embeddings_2d[:, 0]\n",
    "y = embeddings_2d[:, 1]\n",
    "\n",
    "df = pd.DataFrame(embeddings_2d, columns = [\"t-SNE component 1\", \"t-SNE component 2\"])\n",
    "df[\"emote_label\"] = hasanabi_emotes[\"HasanAbi\"]\n",
    "df[\"toxicity_label\"] = 'not toxic'\n",
    "df.loc[matching_i,'toxicity_label'] = 'toxic'\n",
    "\n",
    "print(df)"
   ]
  },
  {
   "cell_type": "code",
   "execution_count": 99,
   "metadata": {},
   "outputs": [
    {
     "data": {
      "application/vnd.plotly.v1+json": {
       "config": {
        "plotlyServerURL": "https://plot.ly"
       },
       "data": [
        {
         "customdata": [
          [
           "has0head",
           "toxic"
          ],
          [
           "hasKapp",
           "toxic"
          ],
          [
           "hasSammie",
           "toxic"
          ],
          [
           "hasSilly",
           "toxic"
          ]
         ],
         "hovertemplate": "toxicity_label=%{customdata[1]}<br>t-SNE component 1=%{x}<br>t-SNE component 2=%{y}<br>emote_label=%{customdata[0]}<extra></extra>",
         "legendgroup": "toxic",
         "marker": {
          "color": "#FF0000",
          "symbol": "circle"
         },
         "mode": "markers",
         "name": "toxic",
         "orientation": "v",
         "showlegend": true,
         "type": "scatter",
         "x": [
          -2.1354074478149414,
          -1.9835556745529175,
          -0.875191330909729,
          -2.293245792388916
         ],
         "xaxis": "x",
         "y": [
          -2.687385320663452,
          -1.6265819072723389,
          -0.8444686532020569,
          -1.7242692708969116
         ],
         "yaxis": "y"
        },
        {
         "customdata": [
          [
           "has5",
           "not toxic"
          ],
          [
           "hasAY",
           "not toxic"
          ],
          [
           "hasBOOMER",
           "not toxic"
          ],
          [
           "hasBoot",
           "not toxic"
          ],
          [
           "hasBuff",
           "not toxic"
          ],
          [
           "hasChair",
           "not toxic"
          ],
          [
           "hasChud",
           "not toxic"
          ],
          [
           "hasComfy",
           "not toxic"
          ],
          [
           "hasD",
           "not toxic"
          ],
          [
           "hasEZ",
           "not toxic"
          ],
          [
           "hasFlex",
           "not toxic"
          ],
          [
           "hasGods",
           "not toxic"
          ],
          [
           "hasGun",
           "not toxic"
          ],
          [
           "hasHaram",
           "not toxic"
          ],
          [
           "hasHi",
           "not toxic"
          ],
          [
           "hasHmm",
           "not toxic"
          ],
          [
           "hasHug",
           "not toxic"
          ],
          [
           "hasKkona",
           "not toxic"
          ],
          [
           "hasKomrade",
           "not toxic"
          ],
          [
           "hasL",
           "not toxic"
          ],
          [
           "hasLeft",
           "not toxic"
          ],
          [
           "hasLost",
           "not toxic"
          ],
          [
           "hasMad",
           "not toxic"
          ],
          [
           "hasMald",
           "not toxic"
          ],
          [
           "hasMods",
           "not toxic"
          ],
          [
           "hasModsHYPER",
           "not toxic"
          ],
          [
           "hasNerd",
           "not toxic"
          ],
          [
           "hasO",
           "not toxic"
          ],
          [
           "hasPains",
           "not toxic"
          ],
          [
           "hasPause",
           "not toxic"
          ],
          [
           "hasPOGGERS",
           "not toxic"
          ],
          [
           "hasPOGGIES",
           "not toxic"
          ],
          [
           "hasPray",
           "not toxic"
          ],
          [
           "hasRage",
           "not toxic"
          ],
          [
           "hasRaid",
           "not toxic"
          ],
          [
           "hasRant",
           "not toxic"
          ],
          [
           "hasREE",
           "not toxic"
          ],
          [
           "hasRight",
           "not toxic"
          ],
          [
           "hasSadge",
           "not toxic"
          ],
          [
           "hasSlam",
           "not toxic"
          ],
          [
           "hasSmash",
           "not toxic"
          ],
          [
           "hasSmol",
           "not toxic"
          ],
          [
           "hasSpooked",
           "not toxic"
          ],
          [
           "hasStop",
           "not toxic"
          ],
          [
           "hasTruth",
           "not toxic"
          ],
          [
           "hasUnless",
           "not toxic"
          ],
          [
           "hasWeird",
           "not toxic"
          ],
          [
           "hasWicked",
           "not toxic"
          ],
          [
           "hasWut",
           "not toxic"
          ],
          [
           "AYAYA",
           "not toxic"
          ],
          [
           "Clap",
           "not toxic"
          ],
          [
           "EZ",
           "not toxic"
          ],
          [
           "gachiBASS",
           "not toxic"
          ],
          [
           "Gayge",
           "not toxic"
          ],
          [
           "nymnCorn",
           "not toxic"
          ],
          [
           "PepePls",
           "not toxic"
          ],
          [
           "PianoTime",
           "not toxic"
          ],
          [
           "Stare",
           "not toxic"
          ],
          [
           "sumSmash",
           "not toxic"
          ],
          [
           "TeaTime",
           "not toxic"
          ],
          [
           "WAYTOODANK",
           "not toxic"
          ],
          [
           "WineTime",
           "not toxic"
          ]
         ],
         "hovertemplate": "toxicity_label=%{customdata[1]}<br>t-SNE component 1=%{x}<br>t-SNE component 2=%{y}<br>emote_label=%{customdata[0]}<extra></extra>",
         "legendgroup": "not toxic",
         "marker": {
          "color": "#1f77b4",
          "symbol": "circle"
         },
         "mode": "markers",
         "name": "not toxic",
         "orientation": "v",
         "showlegend": true,
         "type": "scatter",
         "x": [
          -1.2618191242218018,
          -1.073063850402832,
          -1.8961561918258667,
          -1.4375563859939575,
          1.6818432807922363,
          -0.7466421723365784,
          -1.7814347743988037,
          -0.24650652706623077,
          -1.893739938735962,
          -1.6229809522628784,
          1.5023380517959595,
          -1.934489369392395,
          -0.02766677923500538,
          -0.3600664734840393,
          0.7110567688941956,
          -2.594970464706421,
          0.6796376705169678,
          -1.739199161529541,
          0.31039413809776306,
          0.634702205657959,
          2.4333550930023193,
          -1.3797268867492676,
          -0.7739481329917908,
          -1.3561136722564697,
          -2.789665937423706,
          -1.7922523021697998,
          -2.8516664505004883,
          -3.25877046585083,
          -2.892817974090576,
          -2.0341603755950928,
          0.4209057688713074,
          0.5469422340393066,
          -0.4616492688655853,
          -0.8431989550590515,
          0.7157071828842163,
          -0.35576558113098145,
          -1.9172611236572266,
          2.417367935180664,
          -1.9496984481811523,
          0.2674649655818939,
          -0.9571574330329895,
          -0.8550781011581421,
          -1.3172056674957275,
          -1.3502471446990967,
          -1.8059214353561401,
          -3.1770706176757812,
          -0.6639285683631897,
          0.1841934323310852,
          -2.9576022624969482,
          -1.0458122491836548,
          -1.989475965499878,
          -1.9900131225585938,
          -3.6718900203704834,
          -3.7346229553222656,
          -2.6311519145965576,
          -2.690519332885742,
          -2.1154792308807373,
          -3.8067338466644287,
          -2.502706289291382,
          -4.242496967315674,
          -3.3367810249328613,
          -4.198702335357666
         ],
         "xaxis": "x",
         "y": [
          -1.3412604331970215,
          -0.12095871567726135,
          -0.8113038539886475,
          0.5491309762001038,
          -1.3502686023712158,
          -0.02159462869167328,
          -4.084401607513428,
          -0.028121616691350937,
          -0.5546931624412537,
          -1.1875591278076172,
          -1.3074557781219482,
          -0.8505909442901611,
          -1.3577418327331543,
          -1.5540722608566284,
          0.9353272318840027,
          -0.8774643540382385,
          0.9330103397369385,
          -3.9527981281280518,
          -1.8762824535369873,
          0.8808054327964783,
          0.49185624718666077,
          -1.0435972213745117,
          -2.8907248973846436,
          -1.410832166671753,
          -1.4633183479309082,
          -1.0917725563049316,
          -2.976069688796997,
          -0.17811226844787598,
          -2.188528537750244,
          -0.8179965615272522,
          -0.48556098341941833,
          -0.442158967256546,
          1.217856764793396,
          -2.434144973754883,
          -2.5301673412323,
          -1.9783215522766113,
          0.914037823677063,
          0.5037592053413391,
          -0.2528778910636902,
          -2.5919628143310547,
          -1.821441650390625,
          0.00350382924079895,
          -2.035330295562744,
          -1.496261715888977,
          -2.2288832664489746,
          -1.1894443035125732,
          -3.3272905349731445,
          -0.7001080513000488,
          -1.08158540725708,
          1.1214487552642822,
          2.7357795238494873,
          2.7871994972229004,
          -0.013872940093278885,
          -1.7944339513778687,
          1.1717666387557983,
          0.09673026204109192,
          0.38920220732688904,
          -2.4167613983154297,
          -0.17330361902713776,
          -0.551702618598938,
          0.7272208333015442,
          -1.034544587135315
         ],
         "yaxis": "y"
        },
        {
         "customdata": [
          [
           "hasBaited",
           "potentially toxic"
          ],
          [
           "hasCapital",
           "potentially toxic"
          ],
          [
           "hasFatty",
           "potentially toxic"
          ],
          [
           "hasGachi",
           "potentially toxic"
          ],
          [
           "hasPog",
           "potentially toxic"
          ],
          [
           "hasPrime",
           "potentially toxic"
          ],
          [
           "hasSleepy",
           "potentially toxic"
          ],
          [
           "hasUppy",
           "potentially toxic"
          ],
          [
           "hasWhat",
           "potentially toxic"
          ]
         ],
         "hovertemplate": "toxicity_label=%{customdata[1]}<br>t-SNE component 1=%{x}<br>t-SNE component 2=%{y}<br>emote_label=%{customdata[0]}<extra></extra>",
         "legendgroup": "potentially toxic",
         "marker": {
          "color": "#FF8000",
          "symbol": "circle"
         },
         "mode": "markers",
         "name": "potentially toxic",
         "orientation": "v",
         "showlegend": true,
         "type": "scatter",
         "x": [
          -2.0658557415008545,
          -2.227879762649536,
          -0.7472202181816101,
          -0.8302361965179443,
          -0.7087484002113342,
          -0.9038567543029785,
          -1.211846947669983,
          -1.0239629745483398,
          -2.131270408630371
         ],
         "xaxis": "x",
         "y": [
          -1.4569295644760132,
          -2.8143362998962402,
          -0.8038479685783386,
          -0.9390197992324829,
          -0.8074294328689575,
          -0.8253024220466614,
          -0.9409542679786682,
          -0.9505042433738708,
          -1.3581628799438477
         ],
         "yaxis": "y"
        }
       ],
       "layout": {
        "font": {
         "family": "sans-serif",
         "size": 14
        },
        "height": 600,
        "legend": {
         "title": {
          "text": "toxicity_label"
         },
         "tracegroupgap": 0
        },
        "margin": {
         "b": 50,
         "l": 50,
         "r": 50,
         "t": 50
        },
        "plot_bgcolor": "white",
        "shapes": [
         {
          "line": {
           "color": "black",
           "width": 1
          },
          "type": "circle",
          "x0": -2.6354074478149414,
          "x1": -1.6354074478149414,
          "y0": -3.187385320663452,
          "y1": -2.187385320663452
         },
         {
          "line": {
           "color": "black",
           "width": 1
          },
          "type": "circle",
          "x0": -2.4835556745529175,
          "x1": -1.4835556745529175,
          "y0": -2.126581907272339,
          "y1": -1.1265819072723389
         },
         {
          "line": {
           "color": "black",
           "width": 1
          },
          "type": "circle",
          "x0": -1.375191330909729,
          "x1": -0.375191330909729,
          "y0": -1.3444686532020569,
          "y1": -0.3444686532020569
         },
         {
          "line": {
           "color": "black",
           "width": 1
          },
          "type": "circle",
          "x0": -2.793245792388916,
          "x1": -1.793245792388916,
          "y0": -2.2242692708969116,
          "y1": -1.2242692708969116
         }
        ],
        "template": {
         "data": {
          "bar": [
           {
            "error_x": {
             "color": "#2a3f5f"
            },
            "error_y": {
             "color": "#2a3f5f"
            },
            "marker": {
             "line": {
              "color": "#E5ECF6",
              "width": 0.5
             },
             "pattern": {
              "fillmode": "overlay",
              "size": 10,
              "solidity": 0.2
             }
            },
            "type": "bar"
           }
          ],
          "barpolar": [
           {
            "marker": {
             "line": {
              "color": "#E5ECF6",
              "width": 0.5
             },
             "pattern": {
              "fillmode": "overlay",
              "size": 10,
              "solidity": 0.2
             }
            },
            "type": "barpolar"
           }
          ],
          "carpet": [
           {
            "aaxis": {
             "endlinecolor": "#2a3f5f",
             "gridcolor": "white",
             "linecolor": "white",
             "minorgridcolor": "white",
             "startlinecolor": "#2a3f5f"
            },
            "baxis": {
             "endlinecolor": "#2a3f5f",
             "gridcolor": "white",
             "linecolor": "white",
             "minorgridcolor": "white",
             "startlinecolor": "#2a3f5f"
            },
            "type": "carpet"
           }
          ],
          "choropleth": [
           {
            "colorbar": {
             "outlinewidth": 0,
             "ticks": ""
            },
            "type": "choropleth"
           }
          ],
          "contour": [
           {
            "colorbar": {
             "outlinewidth": 0,
             "ticks": ""
            },
            "colorscale": [
             [
              0,
              "#0d0887"
             ],
             [
              0.1111111111111111,
              "#46039f"
             ],
             [
              0.2222222222222222,
              "#7201a8"
             ],
             [
              0.3333333333333333,
              "#9c179e"
             ],
             [
              0.4444444444444444,
              "#bd3786"
             ],
             [
              0.5555555555555556,
              "#d8576b"
             ],
             [
              0.6666666666666666,
              "#ed7953"
             ],
             [
              0.7777777777777778,
              "#fb9f3a"
             ],
             [
              0.8888888888888888,
              "#fdca26"
             ],
             [
              1,
              "#f0f921"
             ]
            ],
            "type": "contour"
           }
          ],
          "contourcarpet": [
           {
            "colorbar": {
             "outlinewidth": 0,
             "ticks": ""
            },
            "type": "contourcarpet"
           }
          ],
          "heatmap": [
           {
            "colorbar": {
             "outlinewidth": 0,
             "ticks": ""
            },
            "colorscale": [
             [
              0,
              "#0d0887"
             ],
             [
              0.1111111111111111,
              "#46039f"
             ],
             [
              0.2222222222222222,
              "#7201a8"
             ],
             [
              0.3333333333333333,
              "#9c179e"
             ],
             [
              0.4444444444444444,
              "#bd3786"
             ],
             [
              0.5555555555555556,
              "#d8576b"
             ],
             [
              0.6666666666666666,
              "#ed7953"
             ],
             [
              0.7777777777777778,
              "#fb9f3a"
             ],
             [
              0.8888888888888888,
              "#fdca26"
             ],
             [
              1,
              "#f0f921"
             ]
            ],
            "type": "heatmap"
           }
          ],
          "heatmapgl": [
           {
            "colorbar": {
             "outlinewidth": 0,
             "ticks": ""
            },
            "colorscale": [
             [
              0,
              "#0d0887"
             ],
             [
              0.1111111111111111,
              "#46039f"
             ],
             [
              0.2222222222222222,
              "#7201a8"
             ],
             [
              0.3333333333333333,
              "#9c179e"
             ],
             [
              0.4444444444444444,
              "#bd3786"
             ],
             [
              0.5555555555555556,
              "#d8576b"
             ],
             [
              0.6666666666666666,
              "#ed7953"
             ],
             [
              0.7777777777777778,
              "#fb9f3a"
             ],
             [
              0.8888888888888888,
              "#fdca26"
             ],
             [
              1,
              "#f0f921"
             ]
            ],
            "type": "heatmapgl"
           }
          ],
          "histogram": [
           {
            "marker": {
             "pattern": {
              "fillmode": "overlay",
              "size": 10,
              "solidity": 0.2
             }
            },
            "type": "histogram"
           }
          ],
          "histogram2d": [
           {
            "colorbar": {
             "outlinewidth": 0,
             "ticks": ""
            },
            "colorscale": [
             [
              0,
              "#0d0887"
             ],
             [
              0.1111111111111111,
              "#46039f"
             ],
             [
              0.2222222222222222,
              "#7201a8"
             ],
             [
              0.3333333333333333,
              "#9c179e"
             ],
             [
              0.4444444444444444,
              "#bd3786"
             ],
             [
              0.5555555555555556,
              "#d8576b"
             ],
             [
              0.6666666666666666,
              "#ed7953"
             ],
             [
              0.7777777777777778,
              "#fb9f3a"
             ],
             [
              0.8888888888888888,
              "#fdca26"
             ],
             [
              1,
              "#f0f921"
             ]
            ],
            "type": "histogram2d"
           }
          ],
          "histogram2dcontour": [
           {
            "colorbar": {
             "outlinewidth": 0,
             "ticks": ""
            },
            "colorscale": [
             [
              0,
              "#0d0887"
             ],
             [
              0.1111111111111111,
              "#46039f"
             ],
             [
              0.2222222222222222,
              "#7201a8"
             ],
             [
              0.3333333333333333,
              "#9c179e"
             ],
             [
              0.4444444444444444,
              "#bd3786"
             ],
             [
              0.5555555555555556,
              "#d8576b"
             ],
             [
              0.6666666666666666,
              "#ed7953"
             ],
             [
              0.7777777777777778,
              "#fb9f3a"
             ],
             [
              0.8888888888888888,
              "#fdca26"
             ],
             [
              1,
              "#f0f921"
             ]
            ],
            "type": "histogram2dcontour"
           }
          ],
          "mesh3d": [
           {
            "colorbar": {
             "outlinewidth": 0,
             "ticks": ""
            },
            "type": "mesh3d"
           }
          ],
          "parcoords": [
           {
            "line": {
             "colorbar": {
              "outlinewidth": 0,
              "ticks": ""
             }
            },
            "type": "parcoords"
           }
          ],
          "pie": [
           {
            "automargin": true,
            "type": "pie"
           }
          ],
          "scatter": [
           {
            "fillpattern": {
             "fillmode": "overlay",
             "size": 10,
             "solidity": 0.2
            },
            "type": "scatter"
           }
          ],
          "scatter3d": [
           {
            "line": {
             "colorbar": {
              "outlinewidth": 0,
              "ticks": ""
             }
            },
            "marker": {
             "colorbar": {
              "outlinewidth": 0,
              "ticks": ""
             }
            },
            "type": "scatter3d"
           }
          ],
          "scattercarpet": [
           {
            "marker": {
             "colorbar": {
              "outlinewidth": 0,
              "ticks": ""
             }
            },
            "type": "scattercarpet"
           }
          ],
          "scattergeo": [
           {
            "marker": {
             "colorbar": {
              "outlinewidth": 0,
              "ticks": ""
             }
            },
            "type": "scattergeo"
           }
          ],
          "scattergl": [
           {
            "marker": {
             "colorbar": {
              "outlinewidth": 0,
              "ticks": ""
             }
            },
            "type": "scattergl"
           }
          ],
          "scattermapbox": [
           {
            "marker": {
             "colorbar": {
              "outlinewidth": 0,
              "ticks": ""
             }
            },
            "type": "scattermapbox"
           }
          ],
          "scatterpolar": [
           {
            "marker": {
             "colorbar": {
              "outlinewidth": 0,
              "ticks": ""
             }
            },
            "type": "scatterpolar"
           }
          ],
          "scatterpolargl": [
           {
            "marker": {
             "colorbar": {
              "outlinewidth": 0,
              "ticks": ""
             }
            },
            "type": "scatterpolargl"
           }
          ],
          "scatterternary": [
           {
            "marker": {
             "colorbar": {
              "outlinewidth": 0,
              "ticks": ""
             }
            },
            "type": "scatterternary"
           }
          ],
          "surface": [
           {
            "colorbar": {
             "outlinewidth": 0,
             "ticks": ""
            },
            "colorscale": [
             [
              0,
              "#0d0887"
             ],
             [
              0.1111111111111111,
              "#46039f"
             ],
             [
              0.2222222222222222,
              "#7201a8"
             ],
             [
              0.3333333333333333,
              "#9c179e"
             ],
             [
              0.4444444444444444,
              "#bd3786"
             ],
             [
              0.5555555555555556,
              "#d8576b"
             ],
             [
              0.6666666666666666,
              "#ed7953"
             ],
             [
              0.7777777777777778,
              "#fb9f3a"
             ],
             [
              0.8888888888888888,
              "#fdca26"
             ],
             [
              1,
              "#f0f921"
             ]
            ],
            "type": "surface"
           }
          ],
          "table": [
           {
            "cells": {
             "fill": {
              "color": "#EBF0F8"
             },
             "line": {
              "color": "white"
             }
            },
            "header": {
             "fill": {
              "color": "#C8D4E3"
             },
             "line": {
              "color": "white"
             }
            },
            "type": "table"
           }
          ]
         },
         "layout": {
          "annotationdefaults": {
           "arrowcolor": "#2a3f5f",
           "arrowhead": 0,
           "arrowwidth": 1
          },
          "autotypenumbers": "strict",
          "coloraxis": {
           "colorbar": {
            "outlinewidth": 0,
            "ticks": ""
           }
          },
          "colorscale": {
           "diverging": [
            [
             0,
             "#8e0152"
            ],
            [
             0.1,
             "#c51b7d"
            ],
            [
             0.2,
             "#de77ae"
            ],
            [
             0.3,
             "#f1b6da"
            ],
            [
             0.4,
             "#fde0ef"
            ],
            [
             0.5,
             "#f7f7f7"
            ],
            [
             0.6,
             "#e6f5d0"
            ],
            [
             0.7,
             "#b8e186"
            ],
            [
             0.8,
             "#7fbc41"
            ],
            [
             0.9,
             "#4d9221"
            ],
            [
             1,
             "#276419"
            ]
           ],
           "sequential": [
            [
             0,
             "#0d0887"
            ],
            [
             0.1111111111111111,
             "#46039f"
            ],
            [
             0.2222222222222222,
             "#7201a8"
            ],
            [
             0.3333333333333333,
             "#9c179e"
            ],
            [
             0.4444444444444444,
             "#bd3786"
            ],
            [
             0.5555555555555556,
             "#d8576b"
            ],
            [
             0.6666666666666666,
             "#ed7953"
            ],
            [
             0.7777777777777778,
             "#fb9f3a"
            ],
            [
             0.8888888888888888,
             "#fdca26"
            ],
            [
             1,
             "#f0f921"
            ]
           ],
           "sequentialminus": [
            [
             0,
             "#0d0887"
            ],
            [
             0.1111111111111111,
             "#46039f"
            ],
            [
             0.2222222222222222,
             "#7201a8"
            ],
            [
             0.3333333333333333,
             "#9c179e"
            ],
            [
             0.4444444444444444,
             "#bd3786"
            ],
            [
             0.5555555555555556,
             "#d8576b"
            ],
            [
             0.6666666666666666,
             "#ed7953"
            ],
            [
             0.7777777777777778,
             "#fb9f3a"
            ],
            [
             0.8888888888888888,
             "#fdca26"
            ],
            [
             1,
             "#f0f921"
            ]
           ]
          },
          "colorway": [
           "#636efa",
           "#EF553B",
           "#00cc96",
           "#ab63fa",
           "#FFA15A",
           "#19d3f3",
           "#FF6692",
           "#B6E880",
           "#FF97FF",
           "#FECB52"
          ],
          "font": {
           "color": "#2a3f5f"
          },
          "geo": {
           "bgcolor": "white",
           "lakecolor": "white",
           "landcolor": "#E5ECF6",
           "showlakes": true,
           "showland": true,
           "subunitcolor": "white"
          },
          "hoverlabel": {
           "align": "left"
          },
          "hovermode": "closest",
          "mapbox": {
           "style": "light"
          },
          "paper_bgcolor": "white",
          "plot_bgcolor": "#E5ECF6",
          "polar": {
           "angularaxis": {
            "gridcolor": "white",
            "linecolor": "white",
            "ticks": ""
           },
           "bgcolor": "#E5ECF6",
           "radialaxis": {
            "gridcolor": "white",
            "linecolor": "white",
            "ticks": ""
           }
          },
          "scene": {
           "xaxis": {
            "backgroundcolor": "#E5ECF6",
            "gridcolor": "white",
            "gridwidth": 2,
            "linecolor": "white",
            "showbackground": true,
            "ticks": "",
            "zerolinecolor": "white"
           },
           "yaxis": {
            "backgroundcolor": "#E5ECF6",
            "gridcolor": "white",
            "gridwidth": 2,
            "linecolor": "white",
            "showbackground": true,
            "ticks": "",
            "zerolinecolor": "white"
           },
           "zaxis": {
            "backgroundcolor": "#E5ECF6",
            "gridcolor": "white",
            "gridwidth": 2,
            "linecolor": "white",
            "showbackground": true,
            "ticks": "",
            "zerolinecolor": "white"
           }
          },
          "shapedefaults": {
           "line": {
            "color": "#2a3f5f"
           }
          },
          "ternary": {
           "aaxis": {
            "gridcolor": "white",
            "linecolor": "white",
            "ticks": ""
           },
           "baxis": {
            "gridcolor": "white",
            "linecolor": "white",
            "ticks": ""
           },
           "bgcolor": "#E5ECF6",
           "caxis": {
            "gridcolor": "white",
            "linecolor": "white",
            "ticks": ""
           }
          },
          "title": {
           "x": 0.05
          },
          "xaxis": {
           "automargin": true,
           "gridcolor": "white",
           "linecolor": "white",
           "ticks": "",
           "title": {
            "standoff": 15
           },
           "zerolinecolor": "white",
           "zerolinewidth": 2
          },
          "yaxis": {
           "automargin": true,
           "gridcolor": "white",
           "linecolor": "white",
           "ticks": "",
           "title": {
            "standoff": 15
           },
           "zerolinecolor": "white",
           "zerolinewidth": 2
          }
         }
        },
        "title": {
         "text": "HasanAbi embedding space visualized using t-SNE in 2D",
         "x": 0.45,
         "y": 0.97
        },
        "width": 800,
        "xaxis": {
         "anchor": "y",
         "domain": [
          0,
          1
         ],
         "linecolor": "black",
         "linewidth": 1,
         "mirror": true,
         "showgrid": false,
         "showline": true,
         "title": {
          "text": "t-SNE component 1"
         }
        },
        "yaxis": {
         "anchor": "x",
         "domain": [
          0,
          1
         ],
         "linecolor": "black",
         "linewidth": 1,
         "mirror": true,
         "showgrid": false,
         "showline": true,
         "title": {
          "text": "t-SNE component 2"
         }
        }
       }
      }
     },
     "metadata": {},
     "output_type": "display_data"
    }
   ],
   "source": [
    "# Interactive plot with Plotly\n",
    "color_map = {'toxic': '#FF0000', 'not toxic': '#1f77b4', \"potentially toxic\": '#FF8000'}\n",
    "\n",
    "#Plotting the scatter plot\n",
    "fig = px.scatter(df, x='t-SNE component 1', y='t-SNE component 2', color = 'toxicity_label', color_discrete_map = color_map, title='HasanAbi embedding space visualized using t-SNE in 2D', width = 800, height = 600, hover_data={'emote_label': True, \"toxicity_label\": True})\n",
    "\n",
    "# Radius for the circle around red points\n",
    "radius = 0.5\n",
    "\n",
    "# Iterate through red toxic points\n",
    "for i in range(len(df)):\n",
    "    if df['toxicity_label'][i] == 'toxic':\n",
    "        x_red, y_red = df['t-SNE component 1'][i], df['t-SNE component 2'][i]\n",
    "        \n",
    "        # Add circle shape around red points (toxic ones)\n",
    "        fig.add_shape(\n",
    "            type='circle',\n",
    "            x0=x_red - radius,\n",
    "            y0=y_red - radius,\n",
    "            x1=x_red + radius,\n",
    "            y1=y_red + radius,\n",
    "            line=dict(color='black', width=1),\n",
    "            # fillcolor='rgba(0,0,0,0)'\n",
    "        )\n",
    "        \n",
    "        for j in range(len(df)):\n",
    "            if df['toxicity_label'][j] == 'not toxic':\n",
    "                x_blue, y_blue = df['t-SNE component 1'][j], df['t-SNE component 2'][j]\n",
    "                distance = np.sqrt((x_blue - x_red) ** 2 + (y_blue - y_red) ** 2)\n",
    "                \n",
    "                # Check if blue point falls within the radius\n",
    "                if distance <= radius:\n",
    "                    # Assigning orange color to blue point\n",
    "                    df.at[j, 'toxicity_label'] = 'potentially toxic'\n",
    "\n",
    "\n",
    "\n",
    "fig.update_layout(\n",
    "    plot_bgcolor='white',  # Set background color to white\n",
    "    xaxis=dict(showgrid=False, showline = True, linecolor = \"black\", linewidth = 1, mirror = True),  #x axis line\n",
    "    yaxis=dict(showgrid=False, showline=True, linecolor='black', linewidth=1, mirror = True),  # Hide grid lines for the y-axis\n",
    "    margin=dict(l=50, r=50, t=50, b=50),  # Adjusting margins for better visibility\n",
    "    font=dict(family=\"sans-serif\", size= 14),\n",
    "\n",
    "    title = {\n",
    "        'x': 0.45,\n",
    "        'y': 0.97\n",
    "    }\n",
    "\n",
    ")\n",
    "\n",
    "fig.show()"
   ]
  }
 ],
 "metadata": {
  "kernelspec": {
   "display_name": "Python 3",
   "language": "python",
   "name": "python3"
  },
  "language_info": {
   "codemirror_mode": {
    "name": "ipython",
    "version": 3
   },
   "file_extension": ".py",
   "mimetype": "text/x-python",
   "name": "python",
   "nbconvert_exporter": "python",
   "pygments_lexer": "ipython3",
   "version": "3.11.4"
  }
 },
 "nbformat": 4,
 "nbformat_minor": 2
}
