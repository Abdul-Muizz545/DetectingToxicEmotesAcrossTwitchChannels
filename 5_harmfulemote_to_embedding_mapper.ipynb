{
 "cells": [
  {
   "cell_type": "markdown",
   "metadata": {},
   "source": [
    "This file contains code that reads in the harmful emotes we extracted from HasanAbi's chat logs and maps them to the corresponding vector in emote embedding space (we do not need entire embedding space since we are only interested in emotes)"
   ]
  },
  {
   "cell_type": "markdown",
   "metadata": {},
   "source": [
    "# Reading tsv files into dataframes"
   ]
  },
  {
   "cell_type": "code",
   "execution_count": 1,
   "metadata": {},
   "outputs": [],
   "source": [
    "import pandas as pd\n",
    "import numpy as np\n",
    "import csv  "
   ]
  },
  {
   "cell_type": "code",
   "execution_count": 2,
   "metadata": {},
   "outputs": [
    {
     "name": "stdout",
     "output_type": "stream",
     "text": [
      "            0         1         2         3         4         5         6    \\\n",
      "0      1.286686  0.975437 -0.105877  0.404266 -0.069233  0.262404  0.398642   \n",
      "1      0.529400  0.667009 -0.286177  0.307736  0.286603 -0.901467 -0.519312   \n",
      "2      0.743785  1.555274  1.418502  0.394715 -0.421091 -0.952254  0.439094   \n",
      "3      0.043058  0.305662  0.128614 -0.744834 -0.107481 -0.263151  0.488091   \n",
      "4      1.025381  0.266222  0.659756  0.703869  0.033678  0.297028 -0.840579   \n",
      "...         ...       ...       ...       ...       ...       ...       ...   \n",
      "65261  0.123776 -0.046080 -0.207358  0.306132 -0.025957  0.054415 -0.058345   \n",
      "65262 -0.078786 -0.208091 -0.120529  0.192288 -0.080695  0.001563  0.107449   \n",
      "65263  0.035936  0.121559  0.153296  0.225215  0.017556 -0.115271  0.007538   \n",
      "65264 -0.010854 -0.175074 -0.021993  0.171712  0.091793  0.198943 -0.111441   \n",
      "65265 -0.039198 -0.101730  0.035865  0.102303  0.016584  0.064804  0.012547   \n",
      "\n",
      "            7         8         9    ...       490       491       492  \\\n",
      "0     -0.315449 -1.087698 -1.060235  ... -0.187224 -0.958284  0.234938   \n",
      "1     -0.045616  0.182374  1.221941  ... -0.205459  0.157584  0.821111   \n",
      "2     -0.824591 -0.556452 -1.017358  ...  0.541599 -0.434617  1.614444   \n",
      "3      0.013400 -0.440657 -1.324904  ...  0.685416  1.168294  0.483025   \n",
      "4      0.118151 -1.409984  0.229814  ...  0.256568  0.060377  0.313571   \n",
      "...         ...       ...       ...  ...       ...       ...       ...   \n",
      "65261  0.373204 -0.003007 -0.011925  ...  0.116089  0.154081  0.028771   \n",
      "65262 -0.003260 -0.066386  0.379041  ...  0.076811  0.153004  0.021823   \n",
      "65263  0.010117 -0.134507  0.063472  ... -0.059425  0.197370  0.087605   \n",
      "65264  0.093867  0.130741 -0.016562  ...  0.090605  0.164713  0.056258   \n",
      "65265  0.092065  0.049016  0.067970  ...  0.056961  0.104560 -0.028895   \n",
      "\n",
      "            493       494       495       496       497       498       499  \n",
      "0      0.003340 -0.104484 -0.293105 -0.475162 -0.332355 -1.018994 -1.131760  \n",
      "1      0.474919 -0.379334  0.377733  0.040605  0.962311 -0.105893 -1.231472  \n",
      "2      0.418718 -0.602230  0.333248  0.285769 -0.152497 -0.302453 -2.602358  \n",
      "3     -0.566916 -0.884935  0.412866 -1.231713 -0.045327 -0.155488 -0.278389  \n",
      "4      0.657656 -0.541019 -0.109496 -0.799253 -0.311534 -1.136861 -1.726974  \n",
      "...         ...       ...       ...       ...       ...       ...       ...  \n",
      "65261  0.059752  0.029517 -0.039812  0.073769 -0.125390  0.106057 -0.059767  \n",
      "65262  0.113981  0.213592  0.032059 -0.000415 -0.115231 -0.140055 -0.288852  \n",
      "65263 -0.047777  0.107747  0.026922  0.013917  0.043370 -0.200364 -0.127454  \n",
      "65264  0.120644  0.153712  0.027234 -0.150531 -0.101712 -0.026250 -0.098374  \n",
      "65265 -0.073409  0.000365 -0.008868 -0.206210 -0.011206  0.053799 -0.028896  \n",
      "\n",
      "[65266 rows x 500 columns]\n"
     ]
    }
   ],
   "source": [
    "#read emote embedding space into dataframe. Each row corresponds to an emote where every emote is represented as vector of 500 numbers (made using Word2Vec model)\n",
    "embeddings_df = pd.read_csv(\"emote_embeddings.tsv\", sep = \"\\t\", encoding='utf-8-sig', header = None, quoting= csv.QUOTE_NONE)\n",
    "print(embeddings_df)"
   ]
  },
  {
   "cell_type": "code",
   "execution_count": 3,
   "metadata": {},
   "outputs": [
    {
     "name": "stdout",
     "output_type": "stream",
     "text": [
      "               word          source\n",
      "0               LUL   GLOBAL_TWITCH\n",
      "1                <3   GLOBAL_TWITCH\n",
      "2              Clap      GLOBAL_7TV\n",
      "3                gg  TWITCH_CHANNEL\n",
      "4                :)   GLOBAL_TWITCH\n",
      "...             ...             ...\n",
      "65261  brucegbatman  TWITCH_CHANNEL\n",
      "65262   matthewbruh  TWITCH_CHANNEL\n",
      "65263    maxyyagony  TWITCH_CHANNEL\n",
      "65264     maximumyk  TWITCH_CHANNEL\n",
      "65265   foggedcorgi  TWITCH_CHANNEL\n",
      "\n",
      "[65266 rows x 2 columns]\n"
     ]
    }
   ],
   "source": [
    "#read emote labels into dataframe.\n",
    "labels_df = pd.read_csv(\"emote_labels.tsv\", sep = '\\t', encoding='utf-8-sig', quoting= csv.QUOTE_NONE)\n",
    "print(labels_df)"
   ]
  },
  {
   "cell_type": "code",
   "execution_count": 4,
   "metadata": {},
   "outputs": [
    {
     "name": "stdout",
     "output_type": "stream",
     "text": [
      "(65266, 2)\n",
      "(65266, 500)\n"
     ]
    }
   ],
   "source": [
    "print(labels_df.shape) \n",
    "print(embeddings_df.shape) \n"
   ]
  },
  {
   "cell_type": "code",
   "execution_count": 5,
   "metadata": {},
   "outputs": [
    {
     "name": "stdout",
     "output_type": "stream",
     "text": [
      "TWITCH_CHANNEL    64851\n",
      "GLOBAL_TWITCH       297\n",
      "GLOBAL_BTTV          61\n",
      "GLOBAL_7TV           44\n",
      "GLOBAL_FFZ           13\n",
      "Name: source, dtype: int64\n"
     ]
    }
   ],
   "source": [
    "print(labels_df[\"source\"].value_counts())"
   ]
  },
  {
   "cell_type": "code",
   "execution_count": 6,
   "metadata": {},
   "outputs": [
    {
     "name": "stdout",
     "output_type": "stream",
     "text": [
      "word      object\n",
      "source    object\n",
      "dtype: object\n",
      "0      float64\n",
      "1      float64\n",
      "2      float64\n",
      "3      float64\n",
      "4      float64\n",
      "        ...   \n",
      "495    float64\n",
      "496    float64\n",
      "497    float64\n",
      "498    float64\n",
      "499    float64\n",
      "Length: 500, dtype: object\n"
     ]
    }
   ],
   "source": [
    "print(labels_df.dtypes)\n",
    "print(embeddings_df.dtypes)"
   ]
  },
  {
   "cell_type": "code",
   "execution_count": 12,
   "metadata": {},
   "outputs": [
    {
     "name": "stdout",
     "output_type": "stream",
     "text": [
      "    Unnamed: 0.1  Unnamed: 0             Emote  \\\n",
      "0              0          82             Gayge   \n",
      "1              1          97            Wokege   \n",
      "2              2          99             Sussy   \n",
      "3              3         105      pepeMeltdown   \n",
      "4              4         110            monkaS   \n",
      "5              5         112          has0head   \n",
      "6              6         126    DANKHACKERMANS   \n",
      "7              7         160          PepeSpit   \n",
      "8              8         168         hasSammie   \n",
      "9              9         171           PoroSad   \n",
      "10            10         172      StinkyCheese   \n",
      "11            11         178            MmmHmm   \n",
      "12            12         179         WhatChamp   \n",
      "13            13         180          PUNCHIES   \n",
      "14            14         181      DIESOFCRINGE   \n",
      "15            15         198           hasKapp   \n",
      "16            16         207          hasSilly   \n",
      "17            17         208             FLUSH   \n",
      "18            18         215            Tastge   \n",
      "19            19         224             KKona   \n",
      "20            20         230            RIDING   \n",
      "21            21         231      ItalianHands   \n",
      "22            22         255        HarleyWink   \n",
      "23            23         256        DarkKnight   \n",
      "24            24         269  TransgenderPride   \n",
      "25            25         270              Grrr   \n",
      "26            26         271                :P   \n",
      "27            27         285        dankCrayon   \n",
      "28            28         298          peepoBye   \n",
      "\n",
      "    Number of times emote was toxic  Number of times emote was NOT toxic  \\\n",
      "0                                 7                                    4   \n",
      "1                                16                                   11   \n",
      "2                                56                                   13   \n",
      "3                                10                                    7   \n",
      "4                                 6                                    3   \n",
      "5                                 8                                    2   \n",
      "6                                 6                                    1   \n",
      "7                                21                                   12   \n",
      "8                                 4                                    0   \n",
      "9                                 1                                    1   \n",
      "10                                1                                    0   \n",
      "11                                1                                    0   \n",
      "12                                8                                    1   \n",
      "13                                1                                    0   \n",
      "14                                1                                    0   \n",
      "15                                1                                    1   \n",
      "16                                4                                    0   \n",
      "17                                8                                    2   \n",
      "18                                2                                    1   \n",
      "19                                1                                    1   \n",
      "20                                7                                    1   \n",
      "21                                1                                    0   \n",
      "22                                1                                    0   \n",
      "23                                1                                    0   \n",
      "24                                5                                    0   \n",
      "25                                2                                    1   \n",
      "26                                1                                    0   \n",
      "27                                3                                    1   \n",
      "28                                1                                    0   \n",
      "\n",
      "    Global emote Channel emote  Toxicity Ratio  Harmful score  \n",
      "0           True         False        0.636364      11.636364  \n",
      "1          False      HasanAbi        0.592593      27.592593  \n",
      "2          False      HasanAbi        0.811594      69.811594  \n",
      "3          False      HasanAbi        0.588235      17.588235  \n",
      "4           True         False        0.666667       9.666667  \n",
      "5          False      HasanAbi        0.800000      10.800000  \n",
      "6          False      HasanAbi        0.857143       7.857143  \n",
      "7          False      HasanAbi        0.636364      33.636364  \n",
      "8          False      HasanAbi        1.000000       5.000000  \n",
      "9           True         False        0.500000       2.500000  \n",
      "10          True         False        1.000000       2.000000  \n",
      "11         False      HasanAbi        1.000000       2.000000  \n",
      "12         False      HasanAbi        0.888889       9.888889  \n",
      "13         False      HasanAbi        1.000000       2.000000  \n",
      "14         False      HasanAbi        1.000000       2.000000  \n",
      "15         False      HasanAbi        0.500000       2.500000  \n",
      "16         False      HasanAbi        1.000000       5.000000  \n",
      "17         False      HasanAbi        0.800000      10.800000  \n",
      "18         False      HasanAbi        0.666667       3.666667  \n",
      "19          True         False        0.500000       2.500000  \n",
      "20         False      HasanAbi        0.875000       8.875000  \n",
      "21         False      HasanAbi        1.000000       2.000000  \n",
      "22          True         False        1.000000       2.000000  \n",
      "23          True         False        1.000000       2.000000  \n",
      "24          True         False        1.000000       6.000000  \n",
      "25         False      HasanAbi        0.666667       3.666667  \n",
      "26          True         False        1.000000       2.000000  \n",
      "27         False      HasanAbi        0.750000       4.750000  \n",
      "28         False      HasanAbi        1.000000       2.000000  \n"
     ]
    }
   ],
   "source": [
    "#Read harmful emotes extracted from HasanAbi's channel into a dataframe (this includes both HasanAbi and global emotes extracted)\n",
    "harmful_emotes_df = pd.read_csv(\"Harmfulemotes_analysis17.csv\")\n",
    "print(harmful_emotes_df)"
   ]
  },
  {
   "cell_type": "markdown",
   "metadata": {},
   "source": [
    "# Mapping harmful emotes to an embedding vector"
   ]
  },
  {
   "cell_type": "code",
   "execution_count": 13,
   "metadata": {},
   "outputs": [
    {
     "name": "stdout",
     "output_type": "stream",
     "text": [
      "0                Gayge\n",
      "1               Wokege\n",
      "2                Sussy\n",
      "3         pepeMeltdown\n",
      "4               monkaS\n",
      "5             has0head\n",
      "6       DANKHACKERMANS\n",
      "7             PepeSpit\n",
      "8            hasSammie\n",
      "9              PoroSad\n",
      "10        StinkyCheese\n",
      "11              MmmHmm\n",
      "12           WhatChamp\n",
      "13            PUNCHIES\n",
      "14        DIESOFCRINGE\n",
      "15             hasKapp\n",
      "16            hasSilly\n",
      "17               FLUSH\n",
      "18              Tastge\n",
      "19               KKona\n",
      "20              RIDING\n",
      "21        ItalianHands\n",
      "22          HarleyWink\n",
      "23          DarkKnight\n",
      "24    TransgenderPride\n",
      "25                Grrr\n",
      "26                  :P\n",
      "27          dankCrayon\n",
      "28            peepoBye\n",
      "Name: Emote, dtype: object\n",
      "<class 'pandas.core.series.Series'>\n"
     ]
    }
   ],
   "source": [
    "emotes_used = harmful_emotes_df[\"Emote\"]\n",
    "print(emotes_used)\n",
    "print(type(emotes_used))"
   ]
  },
  {
   "cell_type": "code",
   "execution_count": 14,
   "metadata": {},
   "outputs": [
    {
     "name": "stdout",
     "output_type": "stream",
     "text": [
      "               Emote  Global emote Channel emote  \\\n",
      "0              Gayge          True         False   \n",
      "1             Wokege         False      HasanAbi   \n",
      "2              Sussy         False      HasanAbi   \n",
      "3       pepeMeltdown         False      HasanAbi   \n",
      "4             monkaS          True         False   \n",
      "5           has0head         False      HasanAbi   \n",
      "6     DANKHACKERMANS         False      HasanAbi   \n",
      "7           PepeSpit         False      HasanAbi   \n",
      "8          hasSammie         False      HasanAbi   \n",
      "9            PoroSad          True         False   \n",
      "10      StinkyCheese          True         False   \n",
      "11            MmmHmm         False      HasanAbi   \n",
      "12         WhatChamp         False      HasanAbi   \n",
      "13          PUNCHIES         False      HasanAbi   \n",
      "14      DIESOFCRINGE         False      HasanAbi   \n",
      "15           hasKapp         False      HasanAbi   \n",
      "16          hasSilly         False      HasanAbi   \n",
      "17             FLUSH         False      HasanAbi   \n",
      "18            Tastge         False      HasanAbi   \n",
      "19             KKona          True         False   \n",
      "20            RIDING         False      HasanAbi   \n",
      "21      ItalianHands         False      HasanAbi   \n",
      "22        HarleyWink          True         False   \n",
      "23        DarkKnight          True         False   \n",
      "24  TransgenderPride          True         False   \n",
      "25              Grrr         False      HasanAbi   \n",
      "26                :P          True         False   \n",
      "27        dankCrayon         False      HasanAbi   \n",
      "28          peepoBye         False      HasanAbi   \n",
      "\n",
      "                                            embedding  \n",
      "0   [-3.37206700e-02  3.80156040e-01  6.06820340e-...  \n",
      "1                                      Does not exist  \n",
      "2                                      Does not exist  \n",
      "3                                      Does not exist  \n",
      "4   [ 3.88217840e-01  7.30623100e-01  4.28267800e-...  \n",
      "5   [ 1.37839720e-01 -3.40588200e-02  3.96217230e-...  \n",
      "6                                      Does not exist  \n",
      "7                                      Does not exist  \n",
      "8   [-0.4447784   0.03827794 -0.7981958   0.499936...  \n",
      "9   [ 1.80695590e+00  7.72091800e-01  4.43779980e-...  \n",
      "10  [-6.64744300e-01 -3.18162980e-01  7.48703840e-...  \n",
      "11                                     Does not exist  \n",
      "12                                     Does not exist  \n",
      "13                                     Does not exist  \n",
      "14                                     Does not exist  \n",
      "15  [-9.33625100e-01 -1.12522380e+00 -8.94175650e-...  \n",
      "16  [-0.56211495 -0.3980009   0.67193085  0.144316...  \n",
      "17                                     Does not exist  \n",
      "18                                     Does not exist  \n",
      "19  [ 0.14495829 -0.799446   -0.8300433  -0.061363...  \n",
      "20                                     Does not exist  \n",
      "21                                     Does not exist  \n",
      "22  [-8.74392900e-01 -5.38148460e-01 -2.51140330e-...  \n",
      "23  [ 0.9460459  -0.32387277 -0.2979008  -1.095456...  \n",
      "24  [-2.96589850e-01 -3.71442880e-01 -2.76149450e-...  \n",
      "25                                     Does not exist  \n",
      "26  [ 1.24579910e+00 -6.97051300e-02 -1.75753520e-...  \n",
      "27                                     Does not exist  \n",
      "28                                     Does not exist  \n"
     ]
    }
   ],
   "source": [
    "emote_and_embedding_df = harmful_emotes_df[\"Emote\"].to_frame()\n",
    "emote_and_embedding_df[\"Global emote\"] = harmful_emotes_df[\"Global emote\"]\n",
    "emote_and_embedding_df[\"Channel emote\"] = harmful_emotes_df[\"Channel emote\"]\n",
    "emote_and_embedding_df[\"embedding\"] = np.nan\n",
    "\n",
    "\n",
    "index = 0\n",
    "for current_emote in emotes_used: #go through each emote\n",
    "    \n",
    "    # Search for the index of where we find this emote in the labels dataframe\n",
    "    matching_index = labels_df.index[labels_df['word'] == current_emote].tolist()\n",
    "    \n",
    "    if len(matching_index) == 0: #maybe emote is stored in lowercase form\n",
    "        matching_index = labels_df.index[labels_df['word'].str.lower() == current_emote.lower()].tolist()\n",
    "\n",
    "    if len(matching_index) == 0: #if emote was not found in labels dataframe\n",
    "        emote_and_embedding_df.at[index, \"embedding\"] = \"Does not exist\"\n",
    "        index += 1\n",
    "        continue\n",
    "    \n",
    "    #Retrieve the 500 element vector corresponding to this emote using the matching_index\n",
    "    embedding_vector = embeddings_df.iloc[matching_index[0]].values\n",
    "\n",
    "    emote_and_embedding_df.iloc[index, emote_and_embedding_df.columns.get_loc(\"embedding\")] = np.array_str(embedding_vector)\n",
    "    index += 1\n",
    "\n",
    "print(emote_and_embedding_df)"
   ]
  },
  {
   "cell_type": "markdown",
   "metadata": {},
   "source": [
    "# Write emote to embedding vector mapping to new csv file"
   ]
  },
  {
   "cell_type": "code",
   "execution_count": 15,
   "metadata": {},
   "outputs": [],
   "source": [
    "emote_and_embedding_df.to_csv(\"harmfulemote_with_embeddingvector.csv\", index = False)"
   ]
  }
 ],
 "metadata": {
  "kernelspec": {
   "display_name": "Python 3",
   "language": "python",
   "name": "python3"
  },
  "language_info": {
   "codemirror_mode": {
    "name": "ipython",
    "version": 3
   },
   "file_extension": ".py",
   "mimetype": "text/x-python",
   "name": "python",
   "nbconvert_exporter": "python",
   "pygments_lexer": "ipython3",
   "version": "3.11.4"
  }
 },
 "nbformat": 4,
 "nbformat_minor": 2
}
